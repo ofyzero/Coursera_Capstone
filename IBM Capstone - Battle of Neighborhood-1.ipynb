{
 "cells": [
  {
   "cell_type": "markdown",
   "metadata": {
    "collapsed": true
   },
   "source": [
    "# Capstone Project - Battle of Neighborhood"
   ]
  },
  {
   "cell_type": "markdown",
   "metadata": {},
   "source": [
    "## Introduction "
   ]
  },
  {
   "cell_type": "markdown",
   "metadata": {},
   "source": [
    "Demographics of New York City shows that New York City has very diverse population of nearly 9 million people.This means 1 / 3 of New York state lives at New York City. And this population increasing rapitly each year. Also , Demographics of New York City demostrate that more than half of the people is immigrant and this percentage is rise continuosly. \n",
    "\n",
    "In this diversified city , nearly half of the population and most of the immigrat is hispanic/Latino race.In this project , we will resarch restaurant of this huge population of hispanic / Latinos becuase food is one of the most fundemantal needs for humans and it represents habits of human races clearly."
   ]
  },
  {
   "cell_type": "markdown",
   "metadata": {},
   "source": [
    "## Data"
   ]
  },
  {
   "cell_type": "markdown",
   "metadata": {},
   "source": [
    "For this project we need the following data :\n",
    "\n",
    "* New York City data that contains list Boroughs, Neighborhoods along with their latitude and longitude.\n",
    "* Data source : https://cocl.us/new_york_dataset\n",
    "* Description : This data set contains the required information. And we will use this data set to explore various neighborhoods of new york city.\n",
    "* Hispanic/Latinos resturants in each neighborhood of new york city.\n",
    "* Data source : Fousquare API\n",
    "* Description : By using this api we will get all the venues in each neighborhood. We can filter these venues to get only Hispanic/Latinos resturants.\n",
    "* GeoSpace data\n",
    "* Data source : https://data.cityofnewyork.us/City-Government/Borough-Boundaries/tqmj-j8zm\n",
    "* Description : By using this geo space data we will get the New york Borough boundaries that will help us visualize choropleth map."
   ]
  },
  {
   "cell_type": "markdown",
   "metadata": {},
   "source": [
    "## Approach"
   ]
  },
  {
   "cell_type": "markdown",
   "metadata": {},
   "source": [
    "* Collect the new york city data from https://cocl.us/new_york_dataset.\n",
    "* Finding venues of each neighborhood with FourSquare.\n",
    "* Filtering  Hispanic/ Latinos Resturants's venues.\n",
    "* FourSquare for finding rating , tips and like count of resturants.\n",
    "* sorting resturant data using rating \n",
    "* folium for visualize the ranking \n",
    "* Questions that can be asked using the above mentioned datasets"
   ]
  },
  {
   "cell_type": "markdown",
   "metadata": {},
   "source": [
    "## Analysis"
   ]
  },
  {
   "cell_type": "markdown",
   "metadata": {},
   "source": [
    "We are going to use  python and its libraries.\n",
    "\n",
    "* folium for creating map\n",
    "* pandas and numpy for handling data.\n",
    "* geopy for getting coordinates of New York City.\n",
    "* request module to use FourSquare API."
   ]
  },
  {
   "cell_type": "markdown",
   "metadata": {},
   "source": [
    "## Questions that can be asked using the above mentioned datasets"
   ]
  },
  {
   "cell_type": "markdown",
   "metadata": {},
   "source": [
    "* What is best location in New York City for Hispanic/ Latinos  ?\n",
    "* Which areas have potential Hispanic/ Latinos Resturant Market ?\n",
    "* Which is the best place to stay if I prefer Hispanic/ Latinos ?"
   ]
  },
  {
   "cell_type": "code",
   "execution_count": null,
   "metadata": {},
   "outputs": [],
   "source": []
  }
 ],
 "metadata": {
  "kernelspec": {
   "display_name": "Python 3.6",
   "language": "python",
   "name": "python3"
  },
  "language_info": {
   "codemirror_mode": {
    "name": "ipython",
    "version": 3
   },
   "file_extension": ".py",
   "mimetype": "text/x-python",
   "name": "python",
   "nbconvert_exporter": "python",
   "pygments_lexer": "ipython3",
   "version": "3.6.8"
  }
 },
 "nbformat": 4,
 "nbformat_minor": 1
}
