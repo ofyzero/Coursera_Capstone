{
 "cells": [
  {
   "cell_type": "markdown",
   "metadata": {
    "collapsed": true
   },
   "source": [
    "# Capstone Project - Battle of Neighborhood"
   ]
  },
  {
   "cell_type": "markdown",
   "metadata": {},
   "source": [
    "## Introduction "
   ]
  },
  {
   "cell_type": "markdown",
   "metadata": {},
   "source": [
    "Demographics of New York City shows that New York City has very diverse population of nearly 9 million people. This means 1 / 3 of New York state lives at New York City. And this population increasing rapidly each year. Also, Demographics of New York City demonstrate that more than half of the people is immigrant and this percentage is rise continuously/\n",
    "In this diversified city, nearly half of the population and most of the immigrant is Hispanic/Latino race. In this project, we will research restaurant of this huge population of Hispanic / Latinos because food is one of the most fundamental needs for humans and it represents habits of human races clearly."
   ]
  },
  {
   "cell_type": "markdown",
   "metadata": {},
   "source": [
    "## Data"
   ]
  },
  {
   "cell_type": "markdown",
   "metadata": {},
   "source": [
    "For this project we need the following data :\n",
    "\n",
    "* New York City data that contains list Boroughs, Neighborhoods along with their latitude and longitude.\n",
    "* Data source : https://cocl.us/new_york_dataset\n",
    "* Description : This data set contains the required information. And we will use this data set to explore various neighborhoods of new york city.\n",
    "* Hispanic/Latinos resturants in each neighborhood of new york city.\n",
    "* Data source : Fousquare API\n",
    "* Description : By using this api we will get all the venues in each neighborhood. We can filter these venues to get only Hispanic/Latinos resturants.\n",
    "* GeoSpace data\n",
    "* Data source : https://data.cityofnewyork.us/City-Government/Borough-Boundaries/tqmj-j8zm\n",
    "* Description : By using this geo space data we will get the New york Borough boundaries that will help us visualize choropleth map."
   ]
  },
  {
   "cell_type": "markdown",
   "metadata": {},
   "source": [
    "## Approach"
   ]
  },
  {
   "cell_type": "markdown",
   "metadata": {},
   "source": [
    "* Collect the new york city data from https://cocl.us/new_york_dataset.\n",
    "* Finding venues of each neighborhood with FourSquare.\n",
    "* Filtering  Hispanic/ Latinos Resturants's venues.\n",
    "* FourSquare for finding rating , tips and like count of resturants.\n",
    "* sorting resturant data using rating \n",
    "* folium for visualize the ranking \n",
    "* Questions that can be asked using the above mentioned datasets"
   ]
  },
  {
   "cell_type": "markdown",
   "metadata": {},
   "source": [
    "## Analysis"
   ]
  },
  {
   "cell_type": "markdown",
   "metadata": {},
   "source": [
    "We are going to use  python and its libraries.\n",
    "\n",
    "* folium for creating map\n",
    "* pandas and numpy for handling data.\n",
    "* geopy for getting coordinates of New York City.\n",
    "* request module to use FourSquare API."
   ]
  },
  {
   "cell_type": "markdown",
   "metadata": {},
   "source": [
    "## Questions that can be asked using the above mentioned datasets"
   ]
  },
  {
   "cell_type": "markdown",
   "metadata": {},
   "source": [
    "* What is best location in New York City for Hispanic/ Latinos  ?\n",
    "* Which areas have potential Hispanic/ Latinos Resturant Market ?\n",
    "* Which is the best place to stay if I prefer Hispanic/ Latinos ?"
   ]
  },
  {
   "cell_type": "code",
   "execution_count": 69,
   "metadata": {},
   "outputs": [
    {
     "name": "stdout",
     "output_type": "stream",
     "text": [
      "Solving environment: done\n",
      "\n",
      "# All requested packages already installed.\n",
      "\n",
      "Solving environment: done\n",
      "\n",
      "# All requested packages already installed.\n",
      "\n"
     ]
    }
   ],
   "source": [
    "!conda install -c conda-forge folium=0.5.0 --yes\n",
    "!conda install -c conda-forge geocoder --yes"
   ]
  },
  {
   "cell_type": "code",
   "execution_count": 70,
   "metadata": {},
   "outputs": [],
   "source": [
    "import pandas as pd\n",
    "import numpy as np\n",
    "pd.set_option('display.max_columns', None)\n",
    "pd.set_option('display.max_rows', None)\n",
    "import requests\n",
    "from bs4 import BeautifulSoup\n",
    "import geocoder\n",
    "\n",
    "import os\n",
    "import folium # map rendering library\n",
    "from geopy.geocoders import Nominatim # convert an address into latitude and longitude values\n",
    "# Matplotlib and associated plotting modules\n",
    "import matplotlib.pyplot as plt\n",
    "import matplotlib.cm as cm\n",
    "import matplotlib.colors as colors\n",
    "%matplotlib inline"
   ]
  },
  {
   "cell_type": "markdown",
   "metadata": {},
   "source": [
    "Now we define a function to get the geocodes i.e latitude and longitude of a given location using geopy.\n"
   ]
  },
  {
   "cell_type": "code",
   "execution_count": 71,
   "metadata": {},
   "outputs": [],
   "source": [
    "def geo_location(address):\n",
    "    # get geo location of address\n",
    "    geolocator = Nominatim(user_agent=\"ny_explorer\")\n",
    "    location = geolocator.geocode(address)\n",
    "    latitude = location.latitude\n",
    "    longitude = location.longitude\n",
    "    return latitude,longitude\n"
   ]
  },
  {
   "cell_type": "markdown",
   "metadata": {},
   "source": [
    "We define a function to intract with FourSquare API and get top 100 venues within a radius of 1000 metres for a given latitude and longitude. Below function will return us the venue id , venue name and category."
   ]
  },
  {
   "cell_type": "code",
   "execution_count": 88,
   "metadata": {},
   "outputs": [],
   "source": [
    "#CLIENT_ID = 'X31B5BHABVQWGVBZBUT5PDMMZLGCLNMON0VRCMYKIXKP4CWC' ILK\n",
    "CLIENT_ID = 'VU4N5E23P5KIPLO0XKWOXO5YG0QPSKURTNO5N2OJU23OUVM2'\n",
    "#CLIENT_SECRET = 'MMJBXHK02R3RMC5GUR4J1YW1EGWBQHLMKCDK1A0LIVYDJHD0' ILK\n",
    "CLIENT_SECRET = '1WMPDW3UHYRUODJIJPGO3YIHAGTGQT1KYVTRDENJ44PV15SJ'"
   ]
  },
  {
   "cell_type": "code",
   "execution_count": 73,
   "metadata": {},
   "outputs": [],
   "source": [
    "def get_venues(lat,lng):\n",
    "    \n",
    "    #set variables\n",
    "    radius=1000\n",
    "    LIMIT=100\n",
    "    #CLIENT_ID = os.environ[CLIENT_ID] # your Foursquare ID\n",
    "    #CLIENT_SECRET = os.environ[CLIENT_SECRET] # your Foursquare Secret\n",
    "    VERSION = '20180605' # Foursquare API version\n",
    "    \n",
    "    #url to fetch data from foursquare api\n",
    "    url = 'https://api.foursquare.com/v2/venues/explore?&client_id={}&client_secret={}&v={}&ll={},{}&radius={}&limit={}'.format(\n",
    "            CLIENT_ID, \n",
    "            CLIENT_SECRET, \n",
    "            VERSION, \n",
    "            lat, \n",
    "            lng, \n",
    "            radius, \n",
    "            LIMIT)\n",
    "    \n",
    "    # get all the data\n",
    "    results = requests.get(url).json()\n",
    "    venue_data=results[\"response\"]['groups'][0]['items']\n",
    "    venue_details=[]\n",
    "    for row in venue_data:\n",
    "        try:\n",
    "            venue_id=row['venue']['id']\n",
    "            venue_name=row['venue']['name']\n",
    "            venue_category=row['venue']['categories'][0]['name']\n",
    "            venue_details.append([venue_id,venue_name,venue_category])\n",
    "        except KeyError:\n",
    "            pass\n",
    "        \n",
    "    column_names=['ID','Name','Category']\n",
    "    df = pd.DataFrame(venue_details,columns=column_names)\n",
    "    return df\n"
   ]
  },
  {
   "cell_type": "markdown",
   "metadata": {},
   "source": [
    "Now we will define a function to get venue details like like count , rating , tip counts for a given venue id. This will be used for ranking."
   ]
  },
  {
   "cell_type": "code",
   "execution_count": 74,
   "metadata": {},
   "outputs": [],
   "source": [
    "def get_venue_details(venue_id):\n",
    "        \n",
    "    #CLIENT_ID = os.environ[CLIENT_ID] # your Foursquare ID\n",
    "    #CLIENT_SECRET = os.environ[CLIENT_SECRET] # your Foursquare Secret\n",
    "    VERSION = '20180605' # Foursquare API version\n",
    "    \n",
    "    #url to fetch data from foursquare api\n",
    "    url = 'https://api.foursquare.com/v2/venues/{}?&client_id={}&client_secret={}&v={}'.format(\n",
    "            venue_id,\n",
    "            CLIENT_ID, \n",
    "            CLIENT_SECRET, \n",
    "            VERSION)\n",
    "    \n",
    "    # get all the data\n",
    "    results = requests.get(url).json()\n",
    "    venue_data=results['response']['venue']\n",
    "    venue_details=[]\n",
    "    try:\n",
    "        venue_id=venue_data['id']\n",
    "        venue_name=venue_data['name']\n",
    "        venue_likes=venue_data['likes']['count']\n",
    "        venue_rating=venue_data['rating']\n",
    "        venue_tips=venue_data['tips']['count']\n",
    "        venue_details.append([venue_id,venue_name,venue_likes,venue_rating,venue_tips])\n",
    "    except KeyError:\n",
    "        pass\n",
    "        \n",
    "    column_names=['ID','Name','Likes','Rating','Tips']\n",
    "    df = pd.DataFrame(venue_details,columns=column_names)\n",
    "    return df\n"
   ]
  },
  {
   "cell_type": "markdown",
   "metadata": {},
   "source": [
    "Now we define a funtion to get the new york city data such as Boroughs, Neighborhoods along with their latitude and longitude."
   ]
  },
  {
   "cell_type": "code",
   "execution_count": 75,
   "metadata": {},
   "outputs": [],
   "source": [
    "def get_new_york_data():\n",
    "    url='https://cocl.us/new_york_dataset'\n",
    "    resp=requests.get(url).json()\n",
    "    # all data is present in features label\n",
    "    features=resp['features']\n",
    "    \n",
    "    # define the dataframe columns\n",
    "    column_names = ['Borough', 'Neighborhood', 'Latitude', 'Longitude'] \n",
    "    # instantiate the dataframe\n",
    "    new_york_data = pd.DataFrame(columns=column_names)\n",
    "    \n",
    "    for data in features:\n",
    "        borough = data['properties']['borough'] \n",
    "        neighborhood_name = data['properties']['name']\n",
    "        \n",
    "        neighborhood_latlon = data['geometry']['coordinates']\n",
    "        neighborhood_lat = neighborhood_latlon[1]\n",
    "        neighborhood_lon = neighborhood_latlon[0]\n",
    "    \n",
    "        new_york_data = new_york_data.append({'Borough': borough,\n",
    "                                          'Neighborhood': neighborhood_name,\n",
    "                                          'Latitude': neighborhood_lat,\n",
    "                                          'Longitude': neighborhood_lon}, ignore_index=True)\n",
    "    \n",
    "    return new_york_data\n"
   ]
  },
  {
   "cell_type": "markdown",
   "metadata": {},
   "source": [
    "We will call the above funtion to get the new york city data."
   ]
  },
  {
   "cell_type": "code",
   "execution_count": 76,
   "metadata": {},
   "outputs": [
    {
     "data": {
      "text/html": [
       "<div>\n",
       "<style scoped>\n",
       "    .dataframe tbody tr th:only-of-type {\n",
       "        vertical-align: middle;\n",
       "    }\n",
       "\n",
       "    .dataframe tbody tr th {\n",
       "        vertical-align: top;\n",
       "    }\n",
       "\n",
       "    .dataframe thead th {\n",
       "        text-align: right;\n",
       "    }\n",
       "</style>\n",
       "<table border=\"1\" class=\"dataframe\">\n",
       "  <thead>\n",
       "    <tr style=\"text-align: right;\">\n",
       "      <th></th>\n",
       "      <th>Borough</th>\n",
       "      <th>Neighborhood</th>\n",
       "      <th>Latitude</th>\n",
       "      <th>Longitude</th>\n",
       "    </tr>\n",
       "  </thead>\n",
       "  <tbody>\n",
       "    <tr>\n",
       "      <th>0</th>\n",
       "      <td>Bronx</td>\n",
       "      <td>Wakefield</td>\n",
       "      <td>40.894705</td>\n",
       "      <td>-73.847201</td>\n",
       "    </tr>\n",
       "    <tr>\n",
       "      <th>1</th>\n",
       "      <td>Bronx</td>\n",
       "      <td>Co-op City</td>\n",
       "      <td>40.874294</td>\n",
       "      <td>-73.829939</td>\n",
       "    </tr>\n",
       "    <tr>\n",
       "      <th>2</th>\n",
       "      <td>Bronx</td>\n",
       "      <td>Eastchester</td>\n",
       "      <td>40.887556</td>\n",
       "      <td>-73.827806</td>\n",
       "    </tr>\n",
       "    <tr>\n",
       "      <th>3</th>\n",
       "      <td>Bronx</td>\n",
       "      <td>Fieldston</td>\n",
       "      <td>40.895437</td>\n",
       "      <td>-73.905643</td>\n",
       "    </tr>\n",
       "    <tr>\n",
       "      <th>4</th>\n",
       "      <td>Bronx</td>\n",
       "      <td>Riverdale</td>\n",
       "      <td>40.890834</td>\n",
       "      <td>-73.912585</td>\n",
       "    </tr>\n",
       "  </tbody>\n",
       "</table>\n",
       "</div>"
      ],
      "text/plain": [
       "  Borough Neighborhood   Latitude  Longitude\n",
       "0   Bronx    Wakefield  40.894705 -73.847201\n",
       "1   Bronx   Co-op City  40.874294 -73.829939\n",
       "2   Bronx  Eastchester  40.887556 -73.827806\n",
       "3   Bronx    Fieldston  40.895437 -73.905643\n",
       "4   Bronx    Riverdale  40.890834 -73.912585"
      ]
     },
     "execution_count": 76,
     "metadata": {},
     "output_type": "execute_result"
    }
   ],
   "source": [
    "# get new york data\n",
    "new_york_data=get_new_york_data()\n",
    "new_york_data.head()\n"
   ]
  },
  {
   "cell_type": "code",
   "execution_count": 77,
   "metadata": {},
   "outputs": [
    {
     "data": {
      "text/plain": [
       "(306, 4)"
      ]
     },
     "execution_count": 77,
     "metadata": {},
     "output_type": "execute_result"
    }
   ],
   "source": [
    "new_york_data.shape"
   ]
  },
  {
   "cell_type": "markdown",
   "metadata": {},
   "source": [
    "So there are total of 306 different Neighborhoods in New York"
   ]
  },
  {
   "cell_type": "code",
   "execution_count": 78,
   "metadata": {},
   "outputs": [
    {
     "data": {
      "image/png": "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\n",
      "text/plain": [
       "<Figure size 900x500 with 1 Axes>"
      ]
     },
     "metadata": {
      "needs_background": "light"
     },
     "output_type": "display_data"
    }
   ],
   "source": [
    "plt.figure(figsize=(9,5), dpi = 100)\n",
    "# title\n",
    "plt.title('Number of Neighborhood for each Borough in New York City')\n",
    "#On x-axis\n",
    "plt.xlabel('Borough', fontsize = 15)\n",
    "#On y-axis\n",
    "plt.ylabel('No.of Neighborhood', fontsize=15)\n",
    "#giving a bar plot\n",
    "new_york_data.groupby('Borough')['Neighborhood'].count().plot(kind='bar')\n",
    "#legend\n",
    "plt.legend()\n",
    "#displays the plot\n",
    "plt.show()\n"
   ]
  },
  {
   "cell_type": "markdown",
   "metadata": {},
   "source": [
    "We see that Queens has highest number of neighborhoods\n",
    "\n",
    "Now we will collect Hispanic/Latinos resturants for each Neighborhood"
   ]
  },
  {
   "cell_type": "code",
   "execution_count": 97,
   "metadata": {},
   "outputs": [
    {
     "name": "stdout",
     "output_type": "stream",
     "text": [
      "( 1 / 306 ) Hisanic/Latinos Resturants in Wakefield, Bronx:0\n",
      "( 2 / 306 ) Hisanic/Latinos Resturants in Co-op City, Bronx:1\n",
      "( 3 / 306 ) Hisanic/Latinos Resturants in Eastchester, Bronx:0\n",
      "( 4 / 306 ) Hisanic/Latinos Resturants in Fieldston, Bronx:0\n",
      "( 5 / 306 ) Hisanic/Latinos Resturants in Riverdale, Bronx:0\n",
      "( 6 / 306 ) Hisanic/Latinos Resturants in Kingsbridge, Bronx:2\n",
      "( 7 / 306 ) Hisanic/Latinos Resturants in Marble Hill, Manhattan:3\n",
      "( 8 / 306 ) Hisanic/Latinos Resturants in Woodlawn, Bronx:0\n",
      "( 9 / 306 ) Hisanic/Latinos Resturants in Norwood, Bronx:3\n",
      "( 10 / 306 ) Hisanic/Latinos Resturants in Williamsbridge, Bronx:0\n",
      "( 11 / 306 ) Hisanic/Latinos Resturants in Baychester, Bronx:2\n",
      "( 12 / 306 ) Hisanic/Latinos Resturants in Pelham Parkway, Bronx:0\n",
      "( 13 / 306 ) Hisanic/Latinos Resturants in City Island, Bronx:1\n",
      "( 14 / 306 ) Hisanic/Latinos Resturants in Bedford Park, Bronx:2\n",
      "( 15 / 306 ) Hisanic/Latinos Resturants in University Heights, Bronx:3\n",
      "( 16 / 306 ) Hisanic/Latinos Resturants in Morris Heights, Bronx:3\n",
      "( 17 / 306 ) Hisanic/Latinos Resturants in Fordham, Bronx:5\n",
      "( 18 / 306 ) Hisanic/Latinos Resturants in East Tremont, Bronx:0\n",
      "( 19 / 306 ) Hisanic/Latinos Resturants in West Farms, Bronx:0\n",
      "( 20 / 306 ) Hisanic/Latinos Resturants in High  Bridge, Bronx:0\n",
      "( 21 / 306 ) Hisanic/Latinos Resturants in Melrose, Bronx:2\n",
      "( 22 / 306 ) Hisanic/Latinos Resturants in Mott Haven, Bronx:1\n",
      "( 23 / 306 ) Hisanic/Latinos Resturants in Port Morris, Bronx:0\n",
      "( 24 / 306 ) Hisanic/Latinos Resturants in Longwood, Bronx:1\n",
      "( 25 / 306 ) Hisanic/Latinos Resturants in Hunts Point, Bronx:1\n",
      "( 26 / 306 ) Hisanic/Latinos Resturants in Morrisania, Bronx:1\n",
      "( 27 / 306 ) Hisanic/Latinos Resturants in Soundview, Bronx:0\n",
      "( 28 / 306 ) Hisanic/Latinos Resturants in Clason Point, Bronx:0\n",
      "( 29 / 306 ) Hisanic/Latinos Resturants in Throgs Neck, Bronx:0\n",
      "( 30 / 306 ) Hisanic/Latinos Resturants in Country Club, Bronx:0\n",
      "( 31 / 306 ) Hisanic/Latinos Resturants in Parkchester, Bronx:5\n",
      "( 32 / 306 ) Hisanic/Latinos Resturants in Westchester Square, Bronx:2\n",
      "( 33 / 306 ) Hisanic/Latinos Resturants in Van Nest, Bronx:2\n",
      "( 34 / 306 ) Hisanic/Latinos Resturants in Morris Park, Bronx:3\n",
      "( 35 / 306 ) Hisanic/Latinos Resturants in Belmont, Bronx:1\n",
      "( 36 / 306 ) Hisanic/Latinos Resturants in Spuyten Duyvil, Bronx:0\n",
      "( 37 / 306 ) Hisanic/Latinos Resturants in North Riverdale, Bronx:0\n",
      "( 38 / 306 ) Hisanic/Latinos Resturants in Pelham Bay, Bronx:0\n",
      "( 39 / 306 ) Hisanic/Latinos Resturants in Schuylerville, Bronx:0\n",
      "( 40 / 306 ) Hisanic/Latinos Resturants in Edgewater Park, Bronx:0\n",
      "( 41 / 306 ) Hisanic/Latinos Resturants in Castle Hill, Bronx:0\n",
      "( 42 / 306 ) Hisanic/Latinos Resturants in Olinville, Bronx:1\n",
      "( 43 / 306 ) Hisanic/Latinos Resturants in Pelham Gardens, Bronx:1\n",
      "( 44 / 306 ) Hisanic/Latinos Resturants in Concourse, Bronx:1\n",
      "( 45 / 306 ) Hisanic/Latinos Resturants in Unionport, Bronx:4\n",
      "( 46 / 306 ) Hisanic/Latinos Resturants in Edenwald, Bronx:0\n",
      "( 47 / 306 ) Hisanic/Latinos Resturants in Bay Ridge, Brooklyn:0\n",
      "( 48 / 306 ) Hisanic/Latinos Resturants in Bensonhurst, Brooklyn:0\n",
      "( 49 / 306 ) Hisanic/Latinos Resturants in Sunset Park, Brooklyn:2\n",
      "( 50 / 306 ) Hisanic/Latinos Resturants in Greenpoint, Brooklyn:0\n",
      "( 51 / 306 ) Hisanic/Latinos Resturants in Gravesend, Brooklyn:0\n",
      "( 52 / 306 ) Hisanic/Latinos Resturants in Brighton Beach, Brooklyn:0\n",
      "( 53 / 306 ) Hisanic/Latinos Resturants in Sheepshead Bay, Brooklyn:0\n",
      "( 54 / 306 ) Hisanic/Latinos Resturants in Manhattan Terrace, Brooklyn:0\n",
      "( 55 / 306 ) Hisanic/Latinos Resturants in Flatbush, Brooklyn:0\n",
      "( 56 / 306 ) Hisanic/Latinos Resturants in Crown Heights, Brooklyn:0\n",
      "( 57 / 306 ) Hisanic/Latinos Resturants in East Flatbush, Brooklyn:0\n",
      "( 58 / 306 ) Hisanic/Latinos Resturants in Kensington, Brooklyn:0\n",
      "( 59 / 306 ) Hisanic/Latinos Resturants in Windsor Terrace, Brooklyn:0\n",
      "( 60 / 306 ) Hisanic/Latinos Resturants in Prospect Heights, Brooklyn:0\n",
      "( 61 / 306 ) Hisanic/Latinos Resturants in Brownsville, Brooklyn:1\n",
      "( 62 / 306 ) Hisanic/Latinos Resturants in Williamsburg, Brooklyn:0\n",
      "( 63 / 306 ) Hisanic/Latinos Resturants in Bushwick, Brooklyn:0\n",
      "( 64 / 306 ) Hisanic/Latinos Resturants in Bedford Stuyvesant, Brooklyn:0\n",
      "( 65 / 306 ) Hisanic/Latinos Resturants in Brooklyn Heights, Brooklyn:0\n",
      "( 66 / 306 ) Hisanic/Latinos Resturants in Cobble Hill, Brooklyn:1\n",
      "( 67 / 306 ) Hisanic/Latinos Resturants in Carroll Gardens, Brooklyn:1\n",
      "( 68 / 306 ) Hisanic/Latinos Resturants in Red Hook, Brooklyn:0\n",
      "( 69 / 306 ) Hisanic/Latinos Resturants in Gowanus, Brooklyn:0\n",
      "( 70 / 306 ) Hisanic/Latinos Resturants in Fort Greene, Brooklyn:0\n",
      "( 71 / 306 ) Hisanic/Latinos Resturants in Park Slope, Brooklyn:0\n",
      "( 72 / 306 ) Hisanic/Latinos Resturants in Cypress Hills, Brooklyn:0\n",
      "( 73 / 306 ) Hisanic/Latinos Resturants in East New York, Brooklyn:1\n",
      "( 74 / 306 ) Hisanic/Latinos Resturants in Starrett City, Brooklyn:0\n",
      "( 75 / 306 ) Hisanic/Latinos Resturants in Canarsie, Brooklyn:0\n",
      "( 76 / 306 ) Hisanic/Latinos Resturants in Flatlands, Brooklyn:0\n",
      "( 77 / 306 ) Hisanic/Latinos Resturants in Mill Island, Brooklyn:0\n",
      "( 78 / 306 ) Hisanic/Latinos Resturants in Manhattan Beach, Brooklyn:0\n",
      "( 79 / 306 ) Hisanic/Latinos Resturants in Coney Island, Brooklyn:0\n",
      "( 80 / 306 ) Hisanic/Latinos Resturants in Bath Beach, Brooklyn:0\n",
      "( 81 / 306 ) Hisanic/Latinos Resturants in Borough Park, Brooklyn:0\n",
      "( 82 / 306 ) Hisanic/Latinos Resturants in Dyker Heights, Brooklyn:1\n",
      "( 83 / 306 ) Hisanic/Latinos Resturants in Gerritsen Beach, Brooklyn:0\n",
      "( 84 / 306 ) Hisanic/Latinos Resturants in Marine Park, Brooklyn:0\n",
      "( 85 / 306 ) Hisanic/Latinos Resturants in Clinton Hill, Brooklyn:0\n",
      "( 86 / 306 ) Hisanic/Latinos Resturants in Sea Gate, Brooklyn:0\n",
      "( 87 / 306 ) Hisanic/Latinos Resturants in Downtown, Brooklyn:0\n",
      "( 88 / 306 ) Hisanic/Latinos Resturants in Boerum Hill, Brooklyn:0\n",
      "( 89 / 306 ) Hisanic/Latinos Resturants in Prospect Lefferts Gardens, Brooklyn:1\n",
      "( 90 / 306 ) Hisanic/Latinos Resturants in Ocean Hill, Brooklyn:0\n",
      "( 91 / 306 ) Hisanic/Latinos Resturants in City Line, Brooklyn:0\n",
      "( 92 / 306 ) Hisanic/Latinos Resturants in Bergen Beach, Brooklyn:0\n",
      "( 93 / 306 ) Hisanic/Latinos Resturants in Midwood, Brooklyn:0\n",
      "( 94 / 306 ) Hisanic/Latinos Resturants in Prospect Park South, Brooklyn:0\n",
      "( 95 / 306 ) Hisanic/Latinos Resturants in Georgetown, Brooklyn:0\n",
      "( 96 / 306 ) Hisanic/Latinos Resturants in East Williamsburg, Brooklyn:0\n",
      "( 97 / 306 ) Hisanic/Latinos Resturants in North Side, Brooklyn:0\n",
      "( 98 / 306 ) Hisanic/Latinos Resturants in South Side, Brooklyn:0\n",
      "( 99 / 306 ) Hisanic/Latinos Resturants in Ocean Parkway, Brooklyn:0\n",
      "( 100 / 306 ) Hisanic/Latinos Resturants in Fort Hamilton, Brooklyn:1\n",
      "( 101 / 306 ) Hisanic/Latinos Resturants in Chinatown, Manhattan:1\n",
      "( 102 / 306 ) Hisanic/Latinos Resturants in Washington Heights, Manhattan:4\n",
      "( 103 / 306 ) Hisanic/Latinos Resturants in Inwood, Manhattan:4\n",
      "( 104 / 306 ) Hisanic/Latinos Resturants in Hamilton Heights, Manhattan:2\n",
      "( 105 / 306 ) Hisanic/Latinos Resturants in Manhattanville, Manhattan:1\n",
      "( 106 / 306 ) Hisanic/Latinos Resturants in Central Harlem, Manhattan:1\n",
      "( 107 / 306 ) Hisanic/Latinos Resturants in East Harlem, Manhattan:2\n",
      "( 108 / 306 ) Hisanic/Latinos Resturants in Upper East Side, Manhattan:2\n",
      "( 109 / 306 ) Hisanic/Latinos Resturants in Yorkville, Manhattan:0\n",
      "( 110 / 306 ) Hisanic/Latinos Resturants in Lenox Hill, Manhattan:2\n",
      "( 111 / 306 ) Hisanic/Latinos Resturants in Roosevelt Island, Manhattan:0\n",
      "( 112 / 306 ) Hisanic/Latinos Resturants in Upper West Side, Manhattan:0\n",
      "( 113 / 306 ) Hisanic/Latinos Resturants in Lincoln Square, Manhattan:0\n",
      "( 114 / 306 ) Hisanic/Latinos Resturants in Clinton, Manhattan:0\n",
      "( 115 / 306 ) Hisanic/Latinos Resturants in Midtown, Manhattan:0\n",
      "( 116 / 306 ) Hisanic/Latinos Resturants in Murray Hill, Manhattan:0\n",
      "( 117 / 306 ) Hisanic/Latinos Resturants in Chelsea, Manhattan:0\n",
      "( 118 / 306 ) Hisanic/Latinos Resturants in Greenwich Village, Manhattan:0\n",
      "( 119 / 306 ) Hisanic/Latinos Resturants in East Village, Manhattan:0\n",
      "( 120 / 306 ) Hisanic/Latinos Resturants in Lower East Side, Manhattan:0\n",
      "( 121 / 306 ) Hisanic/Latinos Resturants in Tribeca, Manhattan:0\n",
      "( 122 / 306 ) Hisanic/Latinos Resturants in Little Italy, Manhattan:1\n",
      "( 123 / 306 ) Hisanic/Latinos Resturants in Soho, Manhattan:1\n",
      "( 124 / 306 ) Hisanic/Latinos Resturants in West Village, Manhattan:0\n",
      "( 125 / 306 ) Hisanic/Latinos Resturants in Manhattan Valley, Manhattan:0\n",
      "( 126 / 306 ) Hisanic/Latinos Resturants in Morningside Heights, Manhattan:0\n",
      "( 127 / 306 ) Hisanic/Latinos Resturants in Gramercy, Manhattan:1\n",
      "( 128 / 306 ) Hisanic/Latinos Resturants in Battery Park City, Manhattan:0\n",
      "( 129 / 306 ) Hisanic/Latinos Resturants in Financial District, Manhattan:0\n",
      "( 130 / 306 ) Hisanic/Latinos Resturants in Astoria, Queens:0\n",
      "( 131 / 306 ) Hisanic/Latinos Resturants in Woodside, Queens:0\n",
      "( 132 / 306 ) Hisanic/Latinos Resturants in Jackson Heights, Queens:1\n",
      "( 133 / 306 ) Hisanic/Latinos Resturants in Elmhurst, Queens:1\n",
      "( 134 / 306 ) Hisanic/Latinos Resturants in Howard Beach, Queens:0\n",
      "( 135 / 306 ) Hisanic/Latinos Resturants in Corona, Queens:0\n",
      "( 136 / 306 ) Hisanic/Latinos Resturants in Forest Hills, Queens:1\n",
      "( 137 / 306 ) Hisanic/Latinos Resturants in Kew Gardens, Queens:0\n",
      "( 138 / 306 ) Hisanic/Latinos Resturants in Richmond Hill, Queens:1\n",
      "( 139 / 306 ) Hisanic/Latinos Resturants in Flushing, Queens:0\n",
      "( 140 / 306 ) Hisanic/Latinos Resturants in Long Island City, Queens:1\n",
      "( 141 / 306 ) Hisanic/Latinos Resturants in Sunnyside, Queens:0\n",
      "( 142 / 306 ) Hisanic/Latinos Resturants in East Elmhurst, Queens:0\n",
      "( 143 / 306 ) Hisanic/Latinos Resturants in Maspeth, Queens:0\n",
      "( 144 / 306 ) Hisanic/Latinos Resturants in Ridgewood, Queens:0\n",
      "( 145 / 306 ) Hisanic/Latinos Resturants in Glendale, Queens:0\n",
      "( 146 / 306 ) Hisanic/Latinos Resturants in Rego Park, Queens:1\n",
      "( 147 / 306 ) Hisanic/Latinos Resturants in Woodhaven, Queens:0\n",
      "( 148 / 306 ) Hisanic/Latinos Resturants in Ozone Park, Queens:2\n",
      "( 149 / 306 ) Hisanic/Latinos Resturants in South Ozone Park, Queens:0\n",
      "( 150 / 306 ) Hisanic/Latinos Resturants in College Point, Queens:0\n",
      "( 151 / 306 ) Hisanic/Latinos Resturants in Whitestone, Queens:0\n",
      "( 152 / 306 ) Hisanic/Latinos Resturants in Bayside, Queens:1\n",
      "( 153 / 306 ) Hisanic/Latinos Resturants in Auburndale, Queens:0\n",
      "( 154 / 306 ) Hisanic/Latinos Resturants in Little Neck, Queens:0\n",
      "( 155 / 306 ) Hisanic/Latinos Resturants in Douglaston, Queens:0\n",
      "( 156 / 306 ) Hisanic/Latinos Resturants in Glen Oaks, Queens:0\n",
      "( 157 / 306 ) Hisanic/Latinos Resturants in Bellerose, Queens:0\n",
      "( 158 / 306 ) Hisanic/Latinos Resturants in Kew Gardens Hills, Queens:0\n",
      "( 159 / 306 ) Hisanic/Latinos Resturants in Fresh Meadows, Queens:0\n",
      "( 160 / 306 ) Hisanic/Latinos Resturants in Briarwood, Queens:1\n",
      "( 161 / 306 ) Hisanic/Latinos Resturants in Jamaica Center, Queens:0\n",
      "( 162 / 306 ) Hisanic/Latinos Resturants in Oakland Gardens, Queens:0\n",
      "( 163 / 306 ) Hisanic/Latinos Resturants in Queens Village, Queens:0\n",
      "( 164 / 306 ) Hisanic/Latinos Resturants in Hollis, Queens:0\n",
      "( 165 / 306 ) Hisanic/Latinos Resturants in South Jamaica, Queens:0\n",
      "( 166 / 306 ) Hisanic/Latinos Resturants in St. Albans, Queens:0\n",
      "( 167 / 306 ) Hisanic/Latinos Resturants in Rochdale, Queens:0\n",
      "( 168 / 306 ) Hisanic/Latinos Resturants in Springfield Gardens, Queens:0\n",
      "( 169 / 306 ) Hisanic/Latinos Resturants in Cambria Heights, Queens:0\n",
      "( 170 / 306 ) Hisanic/Latinos Resturants in Rosedale, Queens:1\n",
      "( 171 / 306 ) Hisanic/Latinos Resturants in Far Rockaway, Queens:0\n",
      "( 172 / 306 ) Hisanic/Latinos Resturants in Broad Channel, Queens:0\n",
      "( 173 / 306 ) Hisanic/Latinos Resturants in Breezy Point, Queens:0\n",
      "( 174 / 306 ) Hisanic/Latinos Resturants in Steinway, Queens:0\n",
      "( 175 / 306 ) Hisanic/Latinos Resturants in Beechhurst, Queens:0\n",
      "( 176 / 306 ) Hisanic/Latinos Resturants in Bay Terrace, Queens:0\n",
      "( 177 / 306 ) Hisanic/Latinos Resturants in Edgemere, Queens:0\n",
      "( 178 / 306 ) Hisanic/Latinos Resturants in Arverne, Queens:0\n",
      "( 179 / 306 ) Hisanic/Latinos Resturants in Rockaway Beach, Queens:1\n",
      "( 180 / 306 ) Hisanic/Latinos Resturants in Neponsit, Queens:0\n",
      "( 181 / 306 ) Hisanic/Latinos Resturants in Murray Hill, Queens:0\n",
      "( 182 / 306 ) Hisanic/Latinos Resturants in Floral Park, Queens:0\n",
      "( 183 / 306 ) Hisanic/Latinos Resturants in Holliswood, Queens:0\n",
      "( 184 / 306 ) Hisanic/Latinos Resturants in Jamaica Estates, Queens:0\n",
      "( 185 / 306 ) Hisanic/Latinos Resturants in Queensboro Hill, Queens:0\n",
      "( 186 / 306 ) Hisanic/Latinos Resturants in Hillcrest, Queens:0\n",
      "( 187 / 306 ) Hisanic/Latinos Resturants in Ravenswood, Queens:0\n",
      "( 188 / 306 ) Hisanic/Latinos Resturants in Lindenwood, Queens:0\n",
      "( 189 / 306 ) Hisanic/Latinos Resturants in Laurelton, Queens:0\n",
      "( 190 / 306 ) Hisanic/Latinos Resturants in Lefrak City, Queens:0\n",
      "( 191 / 306 ) Hisanic/Latinos Resturants in Belle Harbor, Queens:0\n",
      "( 192 / 306 ) Hisanic/Latinos Resturants in Rockaway Park, Queens:0\n",
      "( 193 / 306 ) Hisanic/Latinos Resturants in Somerville, Queens:0\n",
      "( 194 / 306 ) Hisanic/Latinos Resturants in Brookville, Queens:0\n",
      "( 195 / 306 ) Hisanic/Latinos Resturants in Bellaire, Queens:0\n",
      "( 196 / 306 ) Hisanic/Latinos Resturants in North Corona, Queens:0\n",
      "( 197 / 306 ) Hisanic/Latinos Resturants in Forest Hills Gardens, Queens:0\n",
      "( 198 / 306 ) Hisanic/Latinos Resturants in St. George, Staten Island:1\n",
      "( 199 / 306 ) Hisanic/Latinos Resturants in New Brighton, Staten Island:1\n",
      "( 200 / 306 ) Hisanic/Latinos Resturants in Stapleton, Staten Island:1\n",
      "( 201 / 306 ) Hisanic/Latinos Resturants in Rosebank, Staten Island:0\n",
      "( 202 / 306 ) Hisanic/Latinos Resturants in West Brighton, Staten Island:0\n",
      "( 203 / 306 ) Hisanic/Latinos Resturants in Grymes Hill, Staten Island:1\n",
      "( 204 / 306 ) Hisanic/Latinos Resturants in Todt Hill, Staten Island:0\n",
      "( 205 / 306 ) Hisanic/Latinos Resturants in South Beach, Staten Island:0\n",
      "( 206 / 306 ) Hisanic/Latinos Resturants in Port Richmond, Staten Island:0\n",
      "( 207 / 306 ) Hisanic/Latinos Resturants in Mariner's Harbor, Staten Island:1\n",
      "( 208 / 306 ) Hisanic/Latinos Resturants in Port Ivory, Staten Island:0\n",
      "( 209 / 306 ) Hisanic/Latinos Resturants in Castleton Corners, Staten Island:0\n",
      "( 210 / 306 ) Hisanic/Latinos Resturants in New Springville, Staten Island:0\n",
      "( 211 / 306 ) Hisanic/Latinos Resturants in Travis, Staten Island:1\n",
      "( 212 / 306 ) Hisanic/Latinos Resturants in New Dorp, Staten Island:0\n",
      "( 213 / 306 ) Hisanic/Latinos Resturants in Oakwood, Staten Island:0\n",
      "( 214 / 306 ) Hisanic/Latinos Resturants in Great Kills, Staten Island:1\n",
      "( 215 / 306 ) Hisanic/Latinos Resturants in Eltingville, Staten Island:0\n",
      "( 216 / 306 ) Hisanic/Latinos Resturants in Annadale, Staten Island:0\n",
      "( 217 / 306 ) Hisanic/Latinos Resturants in Woodrow, Staten Island:0\n",
      "( 218 / 306 ) Hisanic/Latinos Resturants in Tottenville, Staten Island:0\n",
      "( 219 / 306 ) Hisanic/Latinos Resturants in Tompkinsville, Staten Island:0\n",
      "( 220 / 306 ) Hisanic/Latinos Resturants in Silver Lake, Staten Island:0\n",
      "( 221 / 306 ) Hisanic/Latinos Resturants in Sunnyside, Staten Island:1\n",
      "( 222 / 306 ) Hisanic/Latinos Resturants in Ditmas Park, Brooklyn:0\n",
      "( 223 / 306 ) Hisanic/Latinos Resturants in Wingate, Brooklyn:0\n",
      "( 224 / 306 ) Hisanic/Latinos Resturants in Rugby, Brooklyn:0\n",
      "( 225 / 306 ) Hisanic/Latinos Resturants in Park Hill, Staten Island:1\n",
      "( 226 / 306 ) Hisanic/Latinos Resturants in Westerleigh, Staten Island:0\n",
      "( 227 / 306 ) Hisanic/Latinos Resturants in Graniteville, Staten Island:1\n",
      "( 228 / 306 ) Hisanic/Latinos Resturants in Arlington, Staten Island:0\n",
      "( 229 / 306 ) Hisanic/Latinos Resturants in Arrochar, Staten Island:0\n",
      "( 230 / 306 ) Hisanic/Latinos Resturants in Grasmere, Staten Island:0\n",
      "( 231 / 306 ) Hisanic/Latinos Resturants in Old Town, Staten Island:0\n",
      "( 232 / 306 ) Hisanic/Latinos Resturants in Dongan Hills, Staten Island:0\n",
      "( 233 / 306 ) Hisanic/Latinos Resturants in Midland Beach, Staten Island:0\n",
      "( 234 / 306 ) Hisanic/Latinos Resturants in Grant City, Staten Island:0\n",
      "( 235 / 306 ) Hisanic/Latinos Resturants in New Dorp Beach, Staten Island:0\n",
      "( 236 / 306 ) Hisanic/Latinos Resturants in Bay Terrace, Staten Island:1\n",
      "( 237 / 306 ) Hisanic/Latinos Resturants in Huguenot, Staten Island:0\n",
      "( 238 / 306 ) Hisanic/Latinos Resturants in Pleasant Plains, Staten Island:0\n",
      "( 239 / 306 ) Hisanic/Latinos Resturants in Butler Manor, Staten Island:0\n",
      "( 240 / 306 ) Hisanic/Latinos Resturants in Charleston, Staten Island:0\n",
      "( 241 / 306 ) Hisanic/Latinos Resturants in Rossville, Staten Island:0\n",
      "( 242 / 306 ) Hisanic/Latinos Resturants in Arden Heights, Staten Island:0\n",
      "( 243 / 306 ) Hisanic/Latinos Resturants in Greenridge, Staten Island:0\n",
      "( 244 / 306 ) Hisanic/Latinos Resturants in Heartland Village, Staten Island:0\n",
      "( 245 / 306 ) Hisanic/Latinos Resturants in Chelsea, Staten Island:1\n",
      "( 246 / 306 ) Hisanic/Latinos Resturants in Bloomfield, Staten Island:0\n",
      "( 247 / 306 ) Hisanic/Latinos Resturants in Bulls Head, Staten Island:0\n",
      "( 248 / 306 ) Hisanic/Latinos Resturants in Carnegie Hill, Manhattan:0\n",
      "( 249 / 306 ) Hisanic/Latinos Resturants in Noho, Manhattan:0\n",
      "( 250 / 306 ) Hisanic/Latinos Resturants in Civic Center, Manhattan:0\n",
      "( 251 / 306 ) Hisanic/Latinos Resturants in Midtown South, Manhattan:0\n",
      "( 252 / 306 ) Hisanic/Latinos Resturants in Richmond Town, Staten Island:0\n",
      "( 253 / 306 ) Hisanic/Latinos Resturants in Shore Acres, Staten Island:0\n",
      "( 254 / 306 ) Hisanic/Latinos Resturants in Clifton, Staten Island:1\n",
      "( 255 / 306 ) Hisanic/Latinos Resturants in Concord, Staten Island:1\n",
      "( 256 / 306 ) Hisanic/Latinos Resturants in Emerson Hill, Staten Island:0\n",
      "( 257 / 306 ) Hisanic/Latinos Resturants in Randall Manor, Staten Island:0\n",
      "( 258 / 306 ) Hisanic/Latinos Resturants in Howland Hook, Staten Island:0\n",
      "( 259 / 306 ) Hisanic/Latinos Resturants in Elm Park, Staten Island:0\n",
      "( 260 / 306 ) Hisanic/Latinos Resturants in Remsen Village, Brooklyn:0\n",
      "( 261 / 306 ) Hisanic/Latinos Resturants in New Lots, Brooklyn:0\n",
      "( 262 / 306 ) Hisanic/Latinos Resturants in Paerdegat Basin, Brooklyn:0\n",
      "( 263 / 306 ) Hisanic/Latinos Resturants in Mill Basin, Brooklyn:0\n",
      "( 264 / 306 ) Hisanic/Latinos Resturants in Jamaica Hills, Queens:0\n",
      "( 265 / 306 ) Hisanic/Latinos Resturants in Utopia, Queens:0\n",
      "( 266 / 306 ) Hisanic/Latinos Resturants in Pomonok, Queens:0\n",
      "( 267 / 306 ) Hisanic/Latinos Resturants in Astoria Heights, Queens:0\n",
      "( 268 / 306 ) Hisanic/Latinos Resturants in Claremont Village, Bronx:0\n",
      "( 269 / 306 ) Hisanic/Latinos Resturants in Concourse Village, Bronx:2\n",
      "( 270 / 306 ) Hisanic/Latinos Resturants in Mount Eden, Bronx:2\n",
      "( 271 / 306 ) Hisanic/Latinos Resturants in Mount Hope, Bronx:2\n",
      "( 272 / 306 ) Hisanic/Latinos Resturants in Sutton Place, Manhattan:0\n",
      "( 273 / 306 ) Hisanic/Latinos Resturants in Hunters Point, Queens:0\n",
      "( 274 / 306 ) Hisanic/Latinos Resturants in Turtle Bay, Manhattan:0\n",
      "( 275 / 306 ) Hisanic/Latinos Resturants in Tudor City, Manhattan:1\n",
      "( 276 / 306 ) Hisanic/Latinos Resturants in Stuyvesant Town, Manhattan:0\n",
      "( 277 / 306 ) Hisanic/Latinos Resturants in Flatiron, Manhattan:1\n",
      "( 278 / 306 ) Hisanic/Latinos Resturants in Sunnyside Gardens, Queens:0\n",
      "( 279 / 306 ) Hisanic/Latinos Resturants in Blissville, Queens:0\n",
      "( 280 / 306 ) Hisanic/Latinos Resturants in Fulton Ferry, Brooklyn:0\n",
      "( 281 / 306 ) Hisanic/Latinos Resturants in Vinegar Hill, Brooklyn:0\n",
      "( 282 / 306 ) Hisanic/Latinos Resturants in Weeksville, Brooklyn:0\n",
      "( 283 / 306 ) Hisanic/Latinos Resturants in Broadway Junction, Brooklyn:0\n",
      "( 284 / 306 ) Hisanic/Latinos Resturants in Dumbo, Brooklyn:0\n",
      "( 285 / 306 ) Hisanic/Latinos Resturants in Manor Heights, Staten Island:0\n",
      "( 286 / 306 ) Hisanic/Latinos Resturants in Willowbrook, Staten Island:0\n",
      "( 287 / 306 ) Hisanic/Latinos Resturants in Sandy Ground, Staten Island:0\n",
      "( 288 / 306 ) Hisanic/Latinos Resturants in Egbertville, Staten Island:0\n",
      "( 289 / 306 ) Hisanic/Latinos Resturants in Roxbury, Queens:0\n",
      "( 290 / 306 ) Hisanic/Latinos Resturants in Homecrest, Brooklyn:0\n",
      "( 291 / 306 ) Hisanic/Latinos Resturants in Middle Village, Queens:0\n",
      "( 292 / 306 ) Hisanic/Latinos Resturants in Prince's Bay, Staten Island:0\n",
      "( 293 / 306 ) Hisanic/Latinos Resturants in Lighthouse Hill, Staten Island:0\n",
      "( 294 / 306 ) Hisanic/Latinos Resturants in Richmond Valley, Staten Island:0\n",
      "( 295 / 306 ) Hisanic/Latinos Resturants in Malba, Queens:0\n",
      "( 296 / 306 ) Hisanic/Latinos Resturants in Highland Park, Brooklyn:0\n",
      "( 297 / 306 ) Hisanic/Latinos Resturants in Madison, Brooklyn:0\n",
      "( 298 / 306 ) Hisanic/Latinos Resturants in Bronxdale, Bronx:2\n",
      "( 299 / 306 ) Hisanic/Latinos Resturants in Allerton, Bronx:1\n",
      "( 300 / 306 ) Hisanic/Latinos Resturants in Kingsbridge Heights, Bronx:0\n",
      "( 301 / 306 ) Hisanic/Latinos Resturants in Erasmus, Brooklyn:2\n",
      "( 302 / 306 ) Hisanic/Latinos Resturants in Hudson Yards, Manhattan:0\n",
      "( 303 / 306 ) Hisanic/Latinos Resturants in Hammels, Queens:0\n",
      "( 304 / 306 ) Hisanic/Latinos Resturants in Bayswater, Queens:0\n",
      "( 305 / 306 ) Hisanic/Latinos Resturants in Queensbridge, Queens:1\n",
      "( 306 / 306 ) Hisanic/Latinos Resturants in Fox Hills, Staten Island:2\n"
     ]
    }
   ],
   "source": [
    "#prepare neighborhood list that contains hispanic resturants\n",
    "column_names=['Borough', 'Neighborhood', 'ID','Name']\n",
    "hispanic_rest_ny=pd.DataFrame(columns=column_names)\n",
    "count=1\n",
    "for row in new_york_data.values.tolist():\n",
    "    Borough, Neighborhood, Latitude, Longitude=row\n",
    "    venues = get_venues(Latitude,Longitude)\n",
    "    hispanic_resturants=venues[venues['Category']=='Spanish Restaurant']   \n",
    "    print('(',count,'/',len(new_york_data),')','Hisanic/Latinos Resturants in '+Neighborhood+', '+Borough+':'+str(len(hispanic_resturants)))\n",
    "    for resturant_detail in hispanic_resturants.values.tolist():\n",
    "        id, name , category=resturant_detail\n",
    "        hispanic_rest_ny = hispanic_rest_ny.append({'Borough': Borough,\n",
    "                                                'Neighborhood': Neighborhood, \n",
    "                                                'ID': id,\n",
    "                                                'Name' : name\n",
    "                                               }, ignore_index=True)\n",
    "    count+=1"
   ]
  },
  {
   "cell_type": "code",
   "execution_count": 98,
   "metadata": {},
   "outputs": [
    {
     "data": {
      "text/html": [
       "<div>\n",
       "<style scoped>\n",
       "    .dataframe tbody tr th:only-of-type {\n",
       "        vertical-align: middle;\n",
       "    }\n",
       "\n",
       "    .dataframe tbody tr th {\n",
       "        vertical-align: top;\n",
       "    }\n",
       "\n",
       "    .dataframe thead th {\n",
       "        text-align: right;\n",
       "    }\n",
       "</style>\n",
       "<table border=\"1\" class=\"dataframe\">\n",
       "  <thead>\n",
       "    <tr style=\"text-align: right;\">\n",
       "      <th></th>\n",
       "      <th>Borough</th>\n",
       "      <th>Neighborhood</th>\n",
       "      <th>ID</th>\n",
       "      <th>Name</th>\n",
       "    </tr>\n",
       "  </thead>\n",
       "  <tbody>\n",
       "    <tr>\n",
       "      <th>0</th>\n",
       "      <td>Bronx</td>\n",
       "      <td>Co-op City</td>\n",
       "      <td>58a9ca678ae363643f8827a2</td>\n",
       "      <td>Sangria Cafe</td>\n",
       "    </tr>\n",
       "    <tr>\n",
       "      <th>1</th>\n",
       "      <td>Bronx</td>\n",
       "      <td>Kingsbridge</td>\n",
       "      <td>4ca785a597c8a1cd7e577ba5</td>\n",
       "      <td>El Economico Restaurant</td>\n",
       "    </tr>\n",
       "    <tr>\n",
       "      <th>2</th>\n",
       "      <td>Bronx</td>\n",
       "      <td>Kingsbridge</td>\n",
       "      <td>50ea5611e4b044bdeead3ade</td>\n",
       "      <td>Q'Kachapa</td>\n",
       "    </tr>\n",
       "    <tr>\n",
       "      <th>3</th>\n",
       "      <td>Manhattan</td>\n",
       "      <td>Marble Hill</td>\n",
       "      <td>4ca785a597c8a1cd7e577ba5</td>\n",
       "      <td>El Economico Restaurant</td>\n",
       "    </tr>\n",
       "    <tr>\n",
       "      <th>4</th>\n",
       "      <td>Manhattan</td>\n",
       "      <td>Marble Hill</td>\n",
       "      <td>50ea5611e4b044bdeead3ade</td>\n",
       "      <td>Q'Kachapa</td>\n",
       "    </tr>\n",
       "  </tbody>\n",
       "</table>\n",
       "</div>"
      ],
      "text/plain": [
       "     Borough Neighborhood                        ID                     Name\n",
       "0      Bronx   Co-op City  58a9ca678ae363643f8827a2             Sangria Cafe\n",
       "1      Bronx  Kingsbridge  4ca785a597c8a1cd7e577ba5  El Economico Restaurant\n",
       "2      Bronx  Kingsbridge  50ea5611e4b044bdeead3ade                Q'Kachapa\n",
       "3  Manhattan  Marble Hill  4ca785a597c8a1cd7e577ba5  El Economico Restaurant\n",
       "4  Manhattan  Marble Hill  50ea5611e4b044bdeead3ade                Q'Kachapa"
      ]
     },
     "execution_count": 98,
     "metadata": {},
     "output_type": "execute_result"
    }
   ],
   "source": [
    "#Now that we have got all the hispanic resturants in new york city , we will analyze it\n",
    "\n",
    "hispanic_rest_ny.head()\n"
   ]
  },
  {
   "cell_type": "code",
   "execution_count": 99,
   "metadata": {},
   "outputs": [
    {
     "data": {
      "text/plain": [
       "(124, 4)"
      ]
     },
     "execution_count": 99,
     "metadata": {},
     "output_type": "execute_result"
    }
   ],
   "source": [
    "hispanic_rest_ny.shape"
   ]
  },
  {
   "cell_type": "markdown",
   "metadata": {},
   "source": [
    "We got 124 Hispanic/Latinos Resturants across New York City"
   ]
  },
  {
   "cell_type": "code",
   "execution_count": 100,
   "metadata": {},
   "outputs": [
    {
     "data": {
      "image/png": "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\n",
      "text/plain": [
       "<Figure size 900x500 with 1 Axes>"
      ]
     },
     "metadata": {
      "needs_background": "light"
     },
     "output_type": "display_data"
    }
   ],
   "source": [
    "plt.figure(figsize=(9,5), dpi = 100)\n",
    "# title\n",
    "plt.title('Number of Hispanic/Latinos Resturants for each Borough in New York City')\n",
    "#On x-axis\n",
    "plt.xlabel('Borough', fontsize = 15)\n",
    "#On y-axis\n",
    "plt.ylabel('No.of Hispanic/Latinos Resturants', fontsize=15)\n",
    "#giving a bar plot\n",
    "hispanic_rest_ny.groupby('Borough')['ID'].count().plot(kind='bar')\n",
    "#legend\n",
    "plt.legend()\n",
    "#displays the plot\n",
    "plt.show()\n"
   ]
  },
  {
   "cell_type": "markdown",
   "metadata": {},
   "source": [
    "We see that Bronx has the largest number of Hispanic/Latinos resturants"
   ]
  },
  {
   "cell_type": "code",
   "execution_count": 101,
   "metadata": {},
   "outputs": [
    {
     "data": {
      "image/png": "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\n",
      "text/plain": [
       "<Figure size 900x500 with 1 Axes>"
      ]
     },
     "metadata": {
      "needs_background": "light"
     },
     "output_type": "display_data"
    }
   ],
   "source": [
    "\n",
    "plt.figure(figsize=(9,5), dpi = 100)\n",
    "# title\n",
    "plt.title('Number of Hispanic/Latinos Resturants for each Neighborhood in New York City')\n",
    "#On x-axis\n",
    "plt.xlabel('Neighborhood', fontsize = 15)\n",
    "#On y-axis\n",
    "plt.ylabel('No.of Hispanic/Latinos Resturants', fontsize=15)\n",
    "#giving a bar plot\n",
    "hispanic_rest_ny.groupby('Neighborhood')['ID'].count().nlargest(5).plot(kind='bar')\n",
    "#legend\n",
    "plt.legend()\n",
    "#displays the plot\n",
    "plt.show()"
   ]
  },
  {
   "cell_type": "code",
   "execution_count": 103,
   "metadata": {},
   "outputs": [
    {
     "data": {
      "text/html": [
       "<div>\n",
       "<style scoped>\n",
       "    .dataframe tbody tr th:only-of-type {\n",
       "        vertical-align: middle;\n",
       "    }\n",
       "\n",
       "    .dataframe tbody tr th {\n",
       "        vertical-align: top;\n",
       "    }\n",
       "\n",
       "    .dataframe thead th {\n",
       "        text-align: right;\n",
       "    }\n",
       "</style>\n",
       "<table border=\"1\" class=\"dataframe\">\n",
       "  <thead>\n",
       "    <tr style=\"text-align: right;\">\n",
       "      <th></th>\n",
       "      <th>Borough</th>\n",
       "      <th>Neighborhood</th>\n",
       "      <th>ID</th>\n",
       "      <th>Name</th>\n",
       "    </tr>\n",
       "  </thead>\n",
       "  <tbody>\n",
       "    <tr>\n",
       "      <th>20</th>\n",
       "      <td>Bronx</td>\n",
       "      <td>Fordham</td>\n",
       "      <td>4cf9d4d12d80a14383df40d8</td>\n",
       "      <td>Kasike Mofongo House</td>\n",
       "    </tr>\n",
       "    <tr>\n",
       "      <th>21</th>\n",
       "      <td>Bronx</td>\n",
       "      <td>Fordham</td>\n",
       "      <td>4c6c82f56af58cfac5248717</td>\n",
       "      <td>Elsa La Reina Del Chicharrón (Elsa The Queen O...</td>\n",
       "    </tr>\n",
       "    <tr>\n",
       "      <th>22</th>\n",
       "      <td>Bronx</td>\n",
       "      <td>Fordham</td>\n",
       "      <td>4c9fcdfc8afca09381840d16</td>\n",
       "      <td>Liberato</td>\n",
       "    </tr>\n",
       "    <tr>\n",
       "      <th>23</th>\n",
       "      <td>Bronx</td>\n",
       "      <td>Fordham</td>\n",
       "      <td>4bb7b71998c7ef3bf03e3002</td>\n",
       "      <td>Three  Spanish  Restaurant</td>\n",
       "    </tr>\n",
       "    <tr>\n",
       "      <th>24</th>\n",
       "      <td>Bronx</td>\n",
       "      <td>Fordham</td>\n",
       "      <td>4e4d0392bd413c4cc66dfde5</td>\n",
       "      <td>Shalon Restaurant</td>\n",
       "    </tr>\n",
       "  </tbody>\n",
       "</table>\n",
       "</div>"
      ],
      "text/plain": [
       "   Borough Neighborhood                        ID  \\\n",
       "20   Bronx      Fordham  4cf9d4d12d80a14383df40d8   \n",
       "21   Bronx      Fordham  4c6c82f56af58cfac5248717   \n",
       "22   Bronx      Fordham  4c9fcdfc8afca09381840d16   \n",
       "23   Bronx      Fordham  4bb7b71998c7ef3bf03e3002   \n",
       "24   Bronx      Fordham  4e4d0392bd413c4cc66dfde5   \n",
       "\n",
       "                                                 Name  \n",
       "20                               Kasike Mofongo House  \n",
       "21  Elsa La Reina Del Chicharrón (Elsa The Queen O...  \n",
       "22                                           Liberato  \n",
       "23                         Three  Spanish  Restaurant  \n",
       "24                                  Shalon Restaurant  "
      ]
     },
     "execution_count": 103,
     "metadata": {},
     "output_type": "execute_result"
    }
   ],
   "source": [
    "hispanic_rest_ny[hispanic_rest_ny['Neighborhood']=='Fordham']\n"
   ]
  },
  {
   "cell_type": "markdown",
   "metadata": {},
   "source": [
    "So Fordham  in Bronx has the highest number of hispanic Resturants with a total count of 6.\n",
    "\n",
    "Now we will get the ranking of each resturant for further analysis.\n"
   ]
  },
  {
   "cell_type": "code",
   "execution_count": 104,
   "metadata": {},
   "outputs": [
    {
     "name": "stdout",
     "output_type": "stream",
     "text": [
      "                         ID          Name  Likes  Rating  Tips\n",
      "0  58a9ca678ae363643f8827a2  Sangria Cafe      7     7.5     3\n",
      "( 1 / 124 ) processed\n",
      "                         ID                     Name  Likes  Rating  Tips\n",
      "0  4ca785a597c8a1cd7e577ba5  El Economico Restaurant     18     7.9     8\n",
      "( 2 / 124 ) processed\n",
      "                         ID       Name  Likes  Rating  Tips\n",
      "0  50ea5611e4b044bdeead3ade  Q'Kachapa     16     7.1     6\n",
      "( 3 / 124 ) processed\n",
      "                         ID                     Name  Likes  Rating  Tips\n",
      "0  4ca785a597c8a1cd7e577ba5  El Economico Restaurant     18     7.9     8\n",
      "( 4 / 124 ) processed\n",
      "                         ID       Name  Likes  Rating  Tips\n",
      "0  50ea5611e4b044bdeead3ade  Q'Kachapa     16     7.1     6\n",
      "( 5 / 124 ) processed\n",
      "Empty DataFrame\n",
      "Columns: [ID, Name, Likes, Rating, Tips]\n",
      "Index: []\n",
      "No data available for id= 4e3448cd6284ea7e10f38a0f\n",
      "( 6 / 124 ) processed\n",
      "                         ID              Name  Likes  Rating  Tips\n",
      "0  4cdadbde958f236a337da903  El Presidente II      9     6.3     6\n",
      "( 7 / 124 ) processed\n",
      "                         ID               Name  Likes  Rating  Tips\n",
      "0  4b7435aef964a52042cd2de3  Caribe Restaurant     13     6.3     8\n",
      "( 8 / 124 ) processed\n",
      "Empty DataFrame\n",
      "Columns: [ID, Name, Likes, Rating, Tips]\n",
      "Index: []\n",
      "No data available for id= 4e0a70edb0fb2f349a0d25bd\n",
      "( 9 / 124 ) processed\n",
      "                         ID             Name  Likes  Rating  Tips\n",
      "0  4be2ecf6b02ec9b6a5064ec0  Caridad & Louie     66     7.8    27\n",
      "( 10 / 124 ) processed\n",
      "                         ID          Name  Likes  Rating  Tips\n",
      "0  58a9ca678ae363643f8827a2  Sangria Cafe      7     7.5     3\n",
      "( 11 / 124 ) processed\n",
      "Empty DataFrame\n",
      "Columns: [ID, Name, Likes, Rating, Tips]\n",
      "Index: []\n",
      "No data available for id= 531f7ea1498e56210466e0bd\n",
      "( 12 / 124 ) processed\n",
      "                         ID               Name  Likes  Rating  Tips\n",
      "0  4e4d0392bd413c4cc66dfde5  Shalon Restaurant      3     7.1     3\n",
      "( 13 / 124 ) processed\n",
      "                         ID               Name  Likes  Rating  Tips\n",
      "0  519aae54498ec1fda8c8ae81  La Rola Resturant      3     6.0     1\n",
      "( 14 / 124 ) processed\n",
      "                         ID  \\\n",
      "0  4c6c82f56af58cfac5248717   \n",
      "\n",
      "                                                Name  Likes  Rating  Tips  \n",
      "0  Elsa La Reina Del Chicharrón (Elsa The Queen O...      8     7.1     6  \n",
      "( 15 / 124 ) processed\n",
      "                         ID      Name  Likes  Rating  Tips\n",
      "0  4c9fcdfc8afca09381840d16  Liberato     11     7.1     8\n",
      "( 16 / 124 ) processed\n",
      "                         ID            Name  Likes  Rating  Tips\n",
      "0  4cd21cee1ac7a1cd743b2392  El Nuevo Valle      5     6.2     4\n",
      "( 17 / 124 ) processed\n",
      "                         ID             Name  Likes  Rating  Tips\n",
      "0  4e39863dae60f589a5dc0dcb  Yoly Restaurant      5     7.6     3\n",
      "( 18 / 124 ) processed\n",
      "                         ID            Name  Likes  Rating  Tips\n",
      "0  4cd21cee1ac7a1cd743b2392  El Nuevo Valle      5     6.2     4\n",
      "( 19 / 124 ) processed\n",
      "Empty DataFrame\n",
      "Columns: [ID, Name, Likes, Rating, Tips]\n",
      "Index: []\n",
      "No data available for id= 5a418a6dc666666f8906d1df\n",
      "( 20 / 124 ) processed\n",
      "                         ID                  Name  Likes  Rating  Tips\n",
      "0  4cf9d4d12d80a14383df40d8  Kasike Mofongo House     13     7.2     6\n",
      "( 21 / 124 ) processed\n",
      "                         ID  \\\n",
      "0  4c6c82f56af58cfac5248717   \n",
      "\n",
      "                                                Name  Likes  Rating  Tips  \n",
      "0  Elsa La Reina Del Chicharrón (Elsa The Queen O...      8     7.1     6  \n",
      "( 22 / 124 ) processed\n",
      "                         ID      Name  Likes  Rating  Tips\n",
      "0  4c9fcdfc8afca09381840d16  Liberato     11     7.1     8\n",
      "( 23 / 124 ) processed\n",
      "                         ID                        Name  Likes  Rating  Tips\n",
      "0  4bb7b71998c7ef3bf03e3002  Three  Spanish  Restaurant      7     6.4     7\n",
      "( 24 / 124 ) processed\n",
      "                         ID               Name  Likes  Rating  Tips\n",
      "0  4e4d0392bd413c4cc66dfde5  Shalon Restaurant      3     7.1     3\n",
      "( 25 / 124 ) processed\n",
      "                         ID                 Name  Likes  Rating  Tips\n",
      "0  4ba52d35f964a52002e838e3  El Valle Restaurant     12     8.0     9\n",
      "( 26 / 124 ) processed\n",
      "                         ID      Name  Likes  Rating  Tips\n",
      "0  4c3a44aa2c8020a1f9228e00  El Valle      4     6.5     4\n",
      "( 27 / 124 ) processed\n",
      "                         ID                 Name  Likes  Rating  Tips\n",
      "0  4ba52d35f964a52002e838e3  El Valle Restaurant     12     8.0     9\n",
      "( 28 / 124 ) processed\n",
      "                         ID      Name  Likes  Rating  Tips\n",
      "0  4c096282009a0f479bade7bf  El Valle      7     5.6     6\n",
      "( 29 / 124 ) processed\n",
      "                         ID                Name  Likes  Rating  Tips\n",
      "0  4c9ca8fc54c8a1cd9e057c4b  Randall Restaurant      5     6.8     2\n",
      "( 30 / 124 ) processed\n",
      "                         ID      Name  Likes  Rating  Tips\n",
      "0  4c096282009a0f479bade7bf  El Valle      7     5.6     6\n",
      "( 31 / 124 ) processed\n",
      "                         ID         Name  Likes  Rating  Tips\n",
      "0  57c7456a498ef7478ef7fe87  Havana Café     12     8.3     1\n",
      "( 32 / 124 ) processed\n",
      "                         ID               Name  Likes  Rating  Tips\n",
      "0  4b7738e5f964a5203a892ee3  La Cocina Boricua     34     8.1    21\n",
      "( 33 / 124 ) processed\n",
      "                         ID            Name  Likes  Rating  Tips\n",
      "0  4c8be9fa509e3704e0822e55  Brisas Express      9     8.3     6\n",
      "( 34 / 124 ) processed\n",
      "                         ID                       Name  Likes  Rating  Tips\n",
      "0  4eed3d759a52993fb7108490  Isla Verde Cafe & Express     48     8.3    14\n",
      "( 35 / 124 ) processed\n",
      "                         ID                Name  Likes  Rating  Tips\n",
      "0  4c9d47ea46978cfa6244967f  Maestro's Caterers     44     6.3    18\n",
      "( 36 / 124 ) processed\n",
      "                         ID               Name  Likes  Rating  Tips\n",
      "0  4b7738e5f964a5203a892ee3  La Cocina Boricua     34     8.1    21\n",
      "( 37 / 124 ) processed\n",
      "                         ID                 Name  Likes  Rating  Tips\n",
      "0  4b68b130f964a52071872be3  Caridad  Restaurant      8     5.6     8\n",
      "( 38 / 124 ) processed\n",
      "                         ID           Name  Likes  Rating  Tips\n",
      "0  4b8db810f964a5206a0a33e3  Cafe Colonial     42     7.4    33\n",
      "( 39 / 124 ) processed\n",
      "                         ID                Name  Likes  Rating  Tips\n",
      "0  4c9d47ea46978cfa6244967f  Maestro's Caterers     44     6.3    18\n",
      "( 40 / 124 ) processed\n",
      "                         ID                Name  Likes  Rating  Tips\n",
      "0  4c9d47ea46978cfa6244967f  Maestro's Caterers     44     6.3    18\n",
      "( 41 / 124 ) processed\n",
      "                         ID                 Name  Likes  Rating  Tips\n",
      "0  4b68b130f964a52071872be3  Caridad  Restaurant      8     5.6     8\n",
      "( 42 / 124 ) processed\n",
      "Empty DataFrame\n",
      "Columns: [ID, Name, Likes, Rating, Tips]\n",
      "Index: []\n",
      "No data available for id= 4dcc6d25d1645340037539bb\n",
      "( 43 / 124 ) processed\n",
      "                         ID                  Name  Likes  Rating  Tips\n",
      "0  4cf9d4d12d80a14383df40d8  Kasike Mofongo House     13     7.2     6\n",
      "( 44 / 124 ) processed\n",
      "Empty DataFrame\n",
      "Columns: [ID, Name, Likes, Rating, Tips]\n",
      "Index: []\n",
      "No data available for id= 4c728a7813228cfa47432b65\n",
      "( 45 / 124 ) processed\n",
      "                         ID             Name  Likes  Rating  Tips\n",
      "0  4be2ecf6b02ec9b6a5064ec0  Caridad & Louie     66     7.8    27\n",
      "( 46 / 124 ) processed\n",
      "                         ID                      Name  Likes  Rating  Tips\n",
      "0  531285f5498e27c059004eee  El Gran Valle Restaurant      7     7.7     3\n",
      "( 47 / 124 ) processed\n",
      "                         ID         Name  Likes  Rating  Tips\n",
      "0  57c7456a498ef7478ef7fe87  Havana Café     12     8.3     1\n",
      "( 48 / 124 ) processed\n",
      "                         ID               Name  Likes  Rating  Tips\n",
      "0  4b7738e5f964a5203a892ee3  La Cocina Boricua     34     8.1    21\n",
      "( 49 / 124 ) processed\n",
      "Empty DataFrame\n",
      "Columns: [ID, Name, Likes, Rating, Tips]\n",
      "Index: []\n",
      "No data available for id= 562981f9498e15c3c95c9ef4\n",
      "( 50 / 124 ) processed\n",
      "Empty DataFrame\n",
      "Columns: [ID, Name, Likes, Rating, Tips]\n",
      "Index: []\n",
      "No data available for id= 4beaf1366295c9b61a118708\n",
      "( 51 / 124 ) processed\n",
      "                         ID           Name  Likes  Rating  Tips\n",
      "0  4a63ae85f964a52093c51fe3  El Yayo Nuevo      9     8.1     8\n",
      "( 52 / 124 ) processed\n",
      "                         ID                    Name  Likes  Rating  Tips\n",
      "0  4e98bc8a722e25a7f58252fb  Mi Castillo Restaurant      5     7.1     2\n",
      "( 53 / 124 ) processed\n",
      "                         ID                  Name  Likes  Rating  Tips\n",
      "0  506ef5e6e4b06f9dbb264036  Tropical Coffee Shop      6     6.8     1\n",
      "( 54 / 124 ) processed\n",
      "                         ID     Name  Likes  Rating  Tips\n",
      "0  4f6e5ea9e4b086107787908b  La Vara    482     9.0   139\n",
      "( 55 / 124 ) processed\n",
      "                         ID                        Name  Likes  Rating  Tips\n",
      "0  4a5f7061f964a52093bf1fe3  El Nuevo Portal Restaurant     23     8.0    14\n",
      "( 56 / 124 ) processed\n",
      "Empty DataFrame\n",
      "Columns: [ID, Name, Likes, Rating, Tips]\n",
      "Index: []\n",
      "No data available for id= 4da6df516a230db30ecb5955\n",
      "( 57 / 124 ) processed\n",
      "                         ID                      Name  Likes  Rating  Tips\n",
      "0  53f686a4498e7b09596566b4  Campo Bello Restaurant 2      4     6.9     2\n",
      "( 58 / 124 ) processed\n",
      "                         ID                  Name  Likes  Rating  Tips\n",
      "0  57811b1f498e9779eb16f09e  El Castillo de Jagua     10     7.9     4\n",
      "( 59 / 124 ) processed\n",
      "                         ID                      Name  Likes  Rating  Tips\n",
      "0  53f686a4498e7b09596566b4  Campo Bello Restaurant 2      4     6.9     2\n",
      "( 60 / 124 ) processed\n",
      "                         ID     Name  Likes  Rating  Tips\n",
      "0  45697387f964a520e53d1fe3  Despaña    885     9.2   285\n",
      "( 61 / 124 ) processed\n",
      "                         ID                       Name  Likes  Rating  Tips\n",
      "0  4bb8cdb053649c74465847fb  Punto de Sabor Restaurant     10     7.5     5\n",
      "( 62 / 124 ) processed\n",
      "                         ID                           Name  Likes  Rating  \\\n",
      "0  4acce300f964a520e2c920e3  Mambi Steak House Bar & Grill     21     7.4   \n",
      "\n",
      "   Tips  \n",
      "0    21  \n",
      "( 63 / 124 ) processed\n",
      "                         ID                Name  Likes  Rating  Tips\n",
      "0  4c5d84496ebe2d7f97f9d22e  Galicia Restaurant     10     7.2    15\n",
      "( 64 / 124 ) processed\n",
      "                         ID                 Name  Likes  Rating  Tips\n",
      "0  4b04b9a2f964a5205a5622e3  El Conde Steakhouse     20     6.9    17\n",
      "( 65 / 124 ) processed\n",
      "                         ID                     Name  Likes  Rating  Tips\n",
      "0  4c043cd3f423a593955dd116  La Reina Del Chicharron     21     8.3     6\n",
      "( 66 / 124 ) processed\n",
      "                         ID             Name  Likes  Rating  Tips\n",
      "0  4becab8e0ddaa59385ec1dc3  La Nueva España     20     7.0    13\n",
      "( 67 / 124 ) processed\n",
      "                         ID            Name  Likes  Rating  Tips\n",
      "0  4bcdd0a6fb84c9b61c98223e  Mamajuana Cafe    172     7.4    94\n",
      "( 68 / 124 ) processed\n",
      "                         ID             Name  Likes  Rating  Tips\n",
      "0  4ba2b7f2f964a5202f1338e3  Dyckman Express     20     7.4    14\n",
      "( 69 / 124 ) processed\n",
      "                         ID                Name  Likes  Rating  Tips\n",
      "0  4a2edc71f964a5206f981fe3  Caridad Restaurant     25     7.3    21\n",
      "( 70 / 124 ) processed\n",
      "                         ID               Name  Likes  Rating  Tips\n",
      "0  4b55274bf964a52006dd27e3  Mofongo del Valle      7     7.6     6\n",
      "( 71 / 124 ) processed\n",
      "                         ID               Name  Likes  Rating  Tips\n",
      "0  4b55274bf964a52006dd27e3  Mofongo del Valle      7     7.6     6\n",
      "( 72 / 124 ) processed\n",
      "                         ID                         Name  Likes  Rating  Tips\n",
      "0  4bdb64a82a3a0f471cd8aeb6  Tropical Grill & Restaurant     40     8.3    20\n",
      "( 73 / 124 ) processed\n",
      "                         ID         Name  Likes  Rating  Tips\n",
      "0  4bc65c9cdb8fa593be479c37  El Caribeno     18     7.5    13\n",
      "( 74 / 124 ) processed\n",
      "                         ID              Name  Likes  Rating  Tips\n",
      "0  4b9466d7f964a520ee7734e3  El Nuevo Caridad     59     7.6    24\n",
      "( 75 / 124 ) processed\n",
      "                         ID     Name  Likes  Rating  Tips\n",
      "0  4bca3ca70687ef3b5ca3dbcc  Pil Pil    225     8.6    66\n",
      "( 76 / 124 ) processed\n",
      "                         ID      Name  Likes  Rating  Tips\n",
      "0  542a0b46498e786c48692618  Boqueria    360     9.1    91\n",
      "( 77 / 124 ) processed\n",
      "                         ID      Name  Likes  Rating  Tips\n",
      "0  542a0b46498e786c48692618  Boqueria    360     9.1    91\n",
      "( 78 / 124 ) processed\n",
      "                         ID     Name  Likes  Rating  Tips\n",
      "0  4bca3ca70687ef3b5ca3dbcc  Pil Pil    225     8.6    66\n",
      "( 79 / 124 ) processed\n",
      "                         ID     Name  Likes  Rating  Tips\n",
      "0  45697387f964a520e53d1fe3  Despaña    885     9.2   285\n",
      "( 80 / 124 ) processed\n",
      "                         ID     Name  Likes  Rating  Tips\n",
      "0  45697387f964a520e53d1fe3  Despaña    885     9.2   285\n",
      "( 81 / 124 ) processed\n",
      "                         ID       Name  Likes  Rating  Tips\n",
      "0  457ebe82f964a5203e3f1fe3  Casa Mono    611     9.0   203\n",
      "( 82 / 124 ) processed\n",
      "                         ID              Name  Likes  Rating  Tips\n",
      "0  4d1a631e1683a1437bf37351  La Picada Azuaya      6     7.9     2\n",
      "( 83 / 124 ) processed\n",
      "                         ID              Name  Likes  Rating  Tips\n",
      "0  4d1a631e1683a1437bf37351  La Picada Azuaya      6     7.9     2\n",
      "( 84 / 124 ) processed\n",
      "                         ID                 Name  Likes  Rating  Tips\n",
      "0  530e971c498ea305c708a58f  Tu Arepa Pizza Cafe      6     7.5     1\n",
      "( 85 / 124 ) processed\n",
      "                         ID            Name  Likes  Rating  Tips\n",
      "0  4ec1a837722e0f78de974903  Girasol Bakery      2     6.0     8\n",
      "( 86 / 124 ) processed\n",
      "                         ID                  Name  Likes  Rating  Tips\n",
      "0  4cbdec58035d236addb1ed4e  Boulevard Restaurant      7     7.3     5\n",
      "( 87 / 124 ) processed\n",
      "                         ID                 Name  Likes  Rating  Tips\n",
      "0  530e971c498ea305c708a58f  Tu Arepa Pizza Cafe      6     7.5     1\n",
      "( 88 / 124 ) processed\n",
      "                         ID                 Name  Likes  Rating  Tips\n",
      "0  4c39e32e18e72d7f32dc1af5  Libertad Restaurant      6     6.6     4\n",
      "( 89 / 124 ) processed\n",
      "Empty DataFrame\n",
      "Columns: [ID, Name, Likes, Rating, Tips]\n",
      "Index: []\n",
      "No data available for id= 567b328d498eca74f532e9ad\n",
      "( 90 / 124 ) processed\n",
      "                         ID                    Name  Likes  Rating  Tips\n",
      "0  5669ffe7498edbe082db916f  Sangarita's Tapas Wine      9     7.6     0\n",
      "( 91 / 124 ) processed\n",
      "                         ID               Name  Likes  Rating  Tips\n",
      "0  4bc4abb374a9a5930928d6f6  El Rey Restaurant     28     7.4    15\n",
      "( 92 / 124 ) processed\n",
      "Empty DataFrame\n",
      "Columns: [ID, Name, Likes, Rating, Tips]\n",
      "Index: []\n",
      "No data available for id= 56bfee38cd10a333b3584fe2\n",
      "( 93 / 124 ) processed\n",
      "                         ID            Name  Likes  Rating  Tips\n",
      "0  4ba61a26f964a520b13339e3  Brisas Del Mar      7     7.7     5\n",
      "( 94 / 124 ) processed\n",
      "Empty DataFrame\n",
      "Columns: [ID, Name, Likes, Rating, Tips]\n",
      "Index: []\n",
      "No data available for id= 4c6d9c0010faa143a863ee68\n",
      "( 95 / 124 ) processed\n",
      "Empty DataFrame\n",
      "Columns: [ID, Name, Likes, Rating, Tips]\n",
      "Index: []\n",
      "No data available for id= 4c6d9c0010faa143a863ee68\n",
      "( 96 / 124 ) processed\n",
      "                         ID                     Name  Likes  Rating  Tips\n",
      "0  4cfc0726c6cca35dcc808f32  Campo Bello Restaurante     31     7.2     7\n",
      "( 97 / 124 ) processed\n",
      "                         ID                     Name  Likes  Rating  Tips\n",
      "0  4cfc0726c6cca35dcc808f32  Campo Bello Restaurante     31     7.2     7\n",
      "( 98 / 124 ) processed\n",
      "                         ID                    Name  Likes  Rating  Tips\n",
      "0  4b22f935f964a5205a5124e3  Real Madrid Restaurant     24     7.7    15\n",
      "( 99 / 124 ) processed\n",
      "                         ID                    Name  Likes  Rating  Tips\n",
      "0  4e4cc369bd413c4cc66bf90c  El Pollo II Restaurant     11     7.9     4\n",
      "( 100 / 124 ) processed\n",
      "                         ID                 Name  Likes  Rating  Tips\n",
      "0  4c9bea5954c8a1cd97b3754b  La Candela Espanola      4     6.7     9\n",
      "( 101 / 124 ) processed\n",
      "                         ID                 Name  Likes  Rating  Tips\n",
      "0  4b65f266f964a520530a2be3  El Pollo Restaurant     20     7.8    12\n",
      "( 102 / 124 ) processed\n",
      "                         ID                 Name  Likes  Rating  Tips\n",
      "0  4b65f266f964a520530a2be3  El Pollo Restaurant     20     7.8    12\n",
      "( 103 / 124 ) processed\n",
      "                         ID                    Name  Likes  Rating  Tips\n",
      "0  4b22f935f964a5205a5124e3  Real Madrid Restaurant     24     7.7    15\n",
      "( 104 / 124 ) processed\n",
      "                         ID                 Name  Likes  Rating  Tips\n",
      "0  4c9bea5954c8a1cd97b3754b  La Candela Espanola      4     6.7     9\n",
      "( 105 / 124 ) processed\n",
      "                         ID                    Name  Likes  Rating  Tips\n",
      "0  4e4cc369bd413c4cc66bf90c  El Pollo II Restaurant     11     7.9     4\n",
      "( 106 / 124 ) processed\n",
      "                         ID                     Name  Likes  Rating  Tips\n",
      "0  4cfc0726c6cca35dcc808f32  Campo Bello Restaurante     31     7.2     7\n",
      "( 107 / 124 ) processed\n",
      "                         ID                 Name  Likes  Rating  Tips\n",
      "0  4b65f266f964a520530a2be3  El Pollo Restaurant     20     7.8    12\n",
      "( 108 / 124 ) processed\n",
      "                         ID                      Name  Likes  Rating  Tips\n",
      "0  531285f5498e27c059004eee  El Gran Valle Restaurant      7     7.7     3\n",
      "( 109 / 124 ) processed\n",
      "                         ID      Name  Likes  Rating  Tips\n",
      "0  4c3a44aa2c8020a1f9228e00  El Valle      4     6.5     4\n",
      "( 110 / 124 ) processed\n",
      "                         ID             Name  Likes  Rating  Tips\n",
      "0  4e39863dae60f589a5dc0dcb  Yoly Restaurant      5     7.6     3\n",
      "( 111 / 124 ) processed\n",
      "                         ID            Name  Likes  Rating  Tips\n",
      "0  4cd21cee1ac7a1cd743b2392  El Nuevo Valle      5     6.2     4\n",
      "( 112 / 124 ) processed\n",
      "                         ID            Name  Likes  Rating  Tips\n",
      "0  4cd21cee1ac7a1cd743b2392  El Nuevo Valle      5     6.2     4\n",
      "( 113 / 124 ) processed\n",
      "Empty DataFrame\n",
      "Columns: [ID, Name, Likes, Rating, Tips]\n",
      "Index: []\n",
      "No data available for id= 5a418a6dc666666f8906d1df\n",
      "( 114 / 124 ) processed\n",
      "                         ID    Name  Likes  Rating  Tips\n",
      "0  4a8489f0f964a520eafc1fe3  Alcala     34     7.9    11\n",
      "( 115 / 124 ) processed\n",
      "                         ID       Name  Likes  Rating  Tips\n",
      "0  457ebe82f964a5203e3f1fe3  Casa Mono    611     9.0   203\n",
      "( 116 / 124 ) processed\n",
      "                         ID           Name  Likes  Rating  Tips\n",
      "0  4b8db810f964a5206a0a33e3  Cafe Colonial     42     7.4    33\n",
      "( 117 / 124 ) processed\n",
      "                         ID                Name  Likes  Rating  Tips\n",
      "0  4c9d47ea46978cfa6244967f  Maestro's Caterers     44     6.3    18\n",
      "( 118 / 124 ) processed\n",
      "Empty DataFrame\n",
      "Columns: [ID, Name, Likes, Rating, Tips]\n",
      "Index: []\n",
      "No data available for id= 4c728a7813228cfa47432b65\n",
      "( 119 / 124 ) processed\n",
      "Empty DataFrame\n",
      "Columns: [ID, Name, Likes, Rating, Tips]\n",
      "Index: []\n",
      "No data available for id= 4c3ce41815cb1b8d4d3c7bdc\n",
      "( 120 / 124 ) processed\n",
      "Empty DataFrame\n",
      "Columns: [ID, Name, Likes, Rating, Tips]\n",
      "Index: []\n",
      "No data available for id= 50d1e1bbe4b0faa00ae867d9\n",
      "( 121 / 124 ) processed\n",
      "                         ID                  Name  Likes  Rating  Tips\n",
      "0  4cbdec58035d236addb1ed4e  Boulevard Restaurant      7     7.3     5\n",
      "( 122 / 124 ) processed\n",
      "                         ID                 Name  Likes  Rating  Tips\n",
      "0  4b65f266f964a520530a2be3  El Pollo Restaurant     20     7.8    12\n",
      "( 123 / 124 ) processed\n",
      "                         ID                     Name  Likes  Rating  Tips\n",
      "0  4cfc0726c6cca35dcc808f32  Campo Bello Restaurante     31     7.2     7\n",
      "( 124 / 124 ) processed\n"
     ]
    }
   ],
   "source": [
    "# prepare neighborhood list that contains hispanic resturants\n",
    "column_names=['Borough', 'Neighborhood', 'ID','Name','Likes','Rating','Tips']\n",
    "hispanic_rest_stats_ny=pd.DataFrame(columns=column_names)\n",
    "count=1\n",
    "\n",
    "\n",
    "for row in hispanic_rest_ny.values.tolist():\n",
    "    Borough,Neighborhood,ID,Name=row\n",
    "    try:\n",
    "        venue_details=get_venue_details(ID)\n",
    "        print(venue_details)\n",
    "        id,name,likes,rating,tips=venue_details.values.tolist()[0]\n",
    "    except IndexError:\n",
    "        print('No data available for id=',ID)\n",
    "        # we will assign 0 value for these resturants as they may have been \n",
    "        #recently opened or details does not exist in FourSquare Database\n",
    "        id,name,likes,rating,tips=[0]*5\n",
    "    print('(',count,'/',len(hispanic_rest_ny),')','processed')\n",
    "    hispanic_rest_stats_ny = hispanic_rest_stats_ny.append({'Borough': Borough,\n",
    "                                                'Neighborhood': Neighborhood, \n",
    "                                                'ID': id,\n",
    "                                                'Name' : name,\n",
    "                                                'Likes' : likes,\n",
    "                                                'Rating' : rating,\n",
    "                                                'Tips' : tips\n",
    "                                               }, ignore_index=True)\n",
    "    count+=1\n"
   ]
  },
  {
   "cell_type": "code",
   "execution_count": 105,
   "metadata": {},
   "outputs": [
    {
     "data": {
      "text/html": [
       "<div>\n",
       "<style scoped>\n",
       "    .dataframe tbody tr th:only-of-type {\n",
       "        vertical-align: middle;\n",
       "    }\n",
       "\n",
       "    .dataframe tbody tr th {\n",
       "        vertical-align: top;\n",
       "    }\n",
       "\n",
       "    .dataframe thead th {\n",
       "        text-align: right;\n",
       "    }\n",
       "</style>\n",
       "<table border=\"1\" class=\"dataframe\">\n",
       "  <thead>\n",
       "    <tr style=\"text-align: right;\">\n",
       "      <th></th>\n",
       "      <th>Borough</th>\n",
       "      <th>Neighborhood</th>\n",
       "      <th>ID</th>\n",
       "      <th>Name</th>\n",
       "      <th>Likes</th>\n",
       "      <th>Rating</th>\n",
       "      <th>Tips</th>\n",
       "    </tr>\n",
       "  </thead>\n",
       "  <tbody>\n",
       "    <tr>\n",
       "      <th>0</th>\n",
       "      <td>Bronx</td>\n",
       "      <td>Co-op City</td>\n",
       "      <td>58a9ca678ae363643f8827a2</td>\n",
       "      <td>Sangria Cafe</td>\n",
       "      <td>7</td>\n",
       "      <td>7.5</td>\n",
       "      <td>3</td>\n",
       "    </tr>\n",
       "    <tr>\n",
       "      <th>1</th>\n",
       "      <td>Bronx</td>\n",
       "      <td>Kingsbridge</td>\n",
       "      <td>4ca785a597c8a1cd7e577ba5</td>\n",
       "      <td>El Economico Restaurant</td>\n",
       "      <td>18</td>\n",
       "      <td>7.9</td>\n",
       "      <td>8</td>\n",
       "    </tr>\n",
       "    <tr>\n",
       "      <th>2</th>\n",
       "      <td>Bronx</td>\n",
       "      <td>Kingsbridge</td>\n",
       "      <td>50ea5611e4b044bdeead3ade</td>\n",
       "      <td>Q'Kachapa</td>\n",
       "      <td>16</td>\n",
       "      <td>7.1</td>\n",
       "      <td>6</td>\n",
       "    </tr>\n",
       "    <tr>\n",
       "      <th>3</th>\n",
       "      <td>Manhattan</td>\n",
       "      <td>Marble Hill</td>\n",
       "      <td>4ca785a597c8a1cd7e577ba5</td>\n",
       "      <td>El Economico Restaurant</td>\n",
       "      <td>18</td>\n",
       "      <td>7.9</td>\n",
       "      <td>8</td>\n",
       "    </tr>\n",
       "    <tr>\n",
       "      <th>4</th>\n",
       "      <td>Manhattan</td>\n",
       "      <td>Marble Hill</td>\n",
       "      <td>50ea5611e4b044bdeead3ade</td>\n",
       "      <td>Q'Kachapa</td>\n",
       "      <td>16</td>\n",
       "      <td>7.1</td>\n",
       "      <td>6</td>\n",
       "    </tr>\n",
       "  </tbody>\n",
       "</table>\n",
       "</div>"
      ],
      "text/plain": [
       "     Borough Neighborhood                        ID                     Name  \\\n",
       "0      Bronx   Co-op City  58a9ca678ae363643f8827a2             Sangria Cafe   \n",
       "1      Bronx  Kingsbridge  4ca785a597c8a1cd7e577ba5  El Economico Restaurant   \n",
       "2      Bronx  Kingsbridge  50ea5611e4b044bdeead3ade                Q'Kachapa   \n",
       "3  Manhattan  Marble Hill  4ca785a597c8a1cd7e577ba5  El Economico Restaurant   \n",
       "4  Manhattan  Marble Hill  50ea5611e4b044bdeead3ade                Q'Kachapa   \n",
       "\n",
       "  Likes  Rating Tips  \n",
       "0     7     7.5    3  \n",
       "1    18     7.9    8  \n",
       "2    16     7.1    6  \n",
       "3    18     7.9    8  \n",
       "4    16     7.1    6  "
      ]
     },
     "execution_count": 105,
     "metadata": {},
     "output_type": "execute_result"
    }
   ],
   "source": [
    "hispanic_rest_stats_ny.head()"
   ]
  },
  {
   "cell_type": "code",
   "execution_count": 106,
   "metadata": {},
   "outputs": [
    {
     "data": {
      "text/plain": [
       "(124, 7)"
      ]
     },
     "execution_count": 106,
     "metadata": {},
     "output_type": "execute_result"
    }
   ],
   "source": [
    "hispanic_rest_stats_ny.shape"
   ]
  },
  {
   "cell_type": "code",
   "execution_count": 107,
   "metadata": {},
   "outputs": [
    {
     "data": {
      "text/plain": [
       "(124, 4)"
      ]
     },
     "execution_count": 107,
     "metadata": {},
     "output_type": "execute_result"
    }
   ],
   "source": [
    "hispanic_rest_ny.shape\n"
   ]
  },
  {
   "cell_type": "markdown",
   "metadata": {},
   "source": [
    "So we got data for all resturants Now lets save this data to a csv sheet. In case we by mistake modify it. As the number of calls to get details for venue are premium call and have limit of 500 per day, we will refer to saved data sheet csv if required\n"
   ]
  },
  {
   "cell_type": "code",
   "execution_count": 108,
   "metadata": {},
   "outputs": [
    {
     "data": {
      "text/plain": [
       "(124, 7)"
      ]
     },
     "execution_count": 108,
     "metadata": {},
     "output_type": "execute_result"
    }
   ],
   "source": [
    "hispanic_rest_stats_ny.to_csv('hispanic_rest_stats_ny.csv', index=False)\n",
    "\n",
    "#Lets verify the data from saved csv file\n",
    "hispanic_rest_stats_ny_csv=pd.read_csv('hispanic_rest_stats_ny.csv')\n",
    "hispanic_rest_stats_ny_csv.shape\n"
   ]
  },
  {
   "cell_type": "code",
   "execution_count": 109,
   "metadata": {},
   "outputs": [
    {
     "data": {
      "text/html": [
       "<div>\n",
       "<style scoped>\n",
       "    .dataframe tbody tr th:only-of-type {\n",
       "        vertical-align: middle;\n",
       "    }\n",
       "\n",
       "    .dataframe tbody tr th {\n",
       "        vertical-align: top;\n",
       "    }\n",
       "\n",
       "    .dataframe thead th {\n",
       "        text-align: right;\n",
       "    }\n",
       "</style>\n",
       "<table border=\"1\" class=\"dataframe\">\n",
       "  <thead>\n",
       "    <tr style=\"text-align: right;\">\n",
       "      <th></th>\n",
       "      <th>Borough</th>\n",
       "      <th>Neighborhood</th>\n",
       "      <th>ID</th>\n",
       "      <th>Name</th>\n",
       "      <th>Likes</th>\n",
       "      <th>Rating</th>\n",
       "      <th>Tips</th>\n",
       "    </tr>\n",
       "  </thead>\n",
       "  <tbody>\n",
       "    <tr>\n",
       "      <th>0</th>\n",
       "      <td>Bronx</td>\n",
       "      <td>Co-op City</td>\n",
       "      <td>58a9ca678ae363643f8827a2</td>\n",
       "      <td>Sangria Cafe</td>\n",
       "      <td>7</td>\n",
       "      <td>7.5</td>\n",
       "      <td>3</td>\n",
       "    </tr>\n",
       "    <tr>\n",
       "      <th>1</th>\n",
       "      <td>Bronx</td>\n",
       "      <td>Kingsbridge</td>\n",
       "      <td>4ca785a597c8a1cd7e577ba5</td>\n",
       "      <td>El Economico Restaurant</td>\n",
       "      <td>18</td>\n",
       "      <td>7.9</td>\n",
       "      <td>8</td>\n",
       "    </tr>\n",
       "    <tr>\n",
       "      <th>2</th>\n",
       "      <td>Bronx</td>\n",
       "      <td>Kingsbridge</td>\n",
       "      <td>50ea5611e4b044bdeead3ade</td>\n",
       "      <td>Q'Kachapa</td>\n",
       "      <td>16</td>\n",
       "      <td>7.1</td>\n",
       "      <td>6</td>\n",
       "    </tr>\n",
       "    <tr>\n",
       "      <th>3</th>\n",
       "      <td>Manhattan</td>\n",
       "      <td>Marble Hill</td>\n",
       "      <td>4ca785a597c8a1cd7e577ba5</td>\n",
       "      <td>El Economico Restaurant</td>\n",
       "      <td>18</td>\n",
       "      <td>7.9</td>\n",
       "      <td>8</td>\n",
       "    </tr>\n",
       "    <tr>\n",
       "      <th>4</th>\n",
       "      <td>Manhattan</td>\n",
       "      <td>Marble Hill</td>\n",
       "      <td>50ea5611e4b044bdeead3ade</td>\n",
       "      <td>Q'Kachapa</td>\n",
       "      <td>16</td>\n",
       "      <td>7.1</td>\n",
       "      <td>6</td>\n",
       "    </tr>\n",
       "  </tbody>\n",
       "</table>\n",
       "</div>"
      ],
      "text/plain": [
       "     Borough Neighborhood                        ID                     Name  \\\n",
       "0      Bronx   Co-op City  58a9ca678ae363643f8827a2             Sangria Cafe   \n",
       "1      Bronx  Kingsbridge  4ca785a597c8a1cd7e577ba5  El Economico Restaurant   \n",
       "2      Bronx  Kingsbridge  50ea5611e4b044bdeead3ade                Q'Kachapa   \n",
       "3  Manhattan  Marble Hill  4ca785a597c8a1cd7e577ba5  El Economico Restaurant   \n",
       "4  Manhattan  Marble Hill  50ea5611e4b044bdeead3ade                Q'Kachapa   \n",
       "\n",
       "   Likes  Rating  Tips  \n",
       "0      7     7.5     3  \n",
       "1     18     7.9     8  \n",
       "2     16     7.1     6  \n",
       "3     18     7.9     8  \n",
       "4     16     7.1     6  "
      ]
     },
     "execution_count": 109,
     "metadata": {},
     "output_type": "execute_result"
    }
   ],
   "source": [
    "hispanic_rest_stats_ny_csv.head()"
   ]
  },
  {
   "cell_type": "code",
   "execution_count": 110,
   "metadata": {},
   "outputs": [
    {
     "name": "stdout",
     "output_type": "stream",
     "text": [
      "<class 'pandas.core.frame.DataFrame'>\n",
      "RangeIndex: 124 entries, 0 to 123\n",
      "Data columns (total 7 columns):\n",
      "Borough         124 non-null object\n",
      "Neighborhood    124 non-null object\n",
      "ID              124 non-null object\n",
      "Name            124 non-null object\n",
      "Likes           124 non-null object\n",
      "Rating          124 non-null float64\n",
      "Tips            124 non-null object\n",
      "dtypes: float64(1), object(6)\n",
      "memory usage: 6.9+ KB\n"
     ]
    }
   ],
   "source": [
    "hispanic_rest_stats_ny.info()"
   ]
  },
  {
   "cell_type": "markdown",
   "metadata": {},
   "source": [
    "We see that values like Likes, Tips are strig values. We would need to convert them into float for further analysis."
   ]
  },
  {
   "cell_type": "code",
   "execution_count": 111,
   "metadata": {},
   "outputs": [
    {
     "name": "stdout",
     "output_type": "stream",
     "text": [
      "<class 'pandas.core.frame.DataFrame'>\n",
      "RangeIndex: 124 entries, 0 to 123\n",
      "Data columns (total 7 columns):\n",
      "Borough         124 non-null object\n",
      "Neighborhood    124 non-null object\n",
      "ID              124 non-null object\n",
      "Name            124 non-null object\n",
      "Likes           124 non-null float64\n",
      "Rating          124 non-null float64\n",
      "Tips            124 non-null float64\n",
      "dtypes: float64(3), object(4)\n",
      "memory usage: 6.9+ KB\n"
     ]
    }
   ],
   "source": [
    "hispanic_rest_stats_ny['Likes']=hispanic_rest_stats_ny['Likes'].astype('float64')\n",
    "hispanic_rest_stats_ny['Tips']=hispanic_rest_stats_ny['Tips'].astype('float64')\n",
    "hispanic_rest_stats_ny.info()"
   ]
  },
  {
   "cell_type": "code",
   "execution_count": 112,
   "metadata": {},
   "outputs": [
    {
     "data": {
      "text/plain": [
       "Borough                        Manhattan\n",
       "Neighborhood                   Chinatown\n",
       "ID              45697387f964a520e53d1fe3\n",
       "Name                             Despaña\n",
       "Likes                                885\n",
       "Rating                               9.2\n",
       "Tips                                 285\n",
       "Name: 60, dtype: object"
      ]
     },
     "execution_count": 112,
     "metadata": {},
     "output_type": "execute_result"
    }
   ],
   "source": [
    "# Resturant with maximum Likes\n",
    "hispanic_rest_stats_ny.iloc[hispanic_rest_stats_ny['Likes'].idxmax()]\n"
   ]
  },
  {
   "cell_type": "code",
   "execution_count": 113,
   "metadata": {},
   "outputs": [
    {
     "data": {
      "text/plain": [
       "Borough                        Manhattan\n",
       "Neighborhood                   Chinatown\n",
       "ID              45697387f964a520e53d1fe3\n",
       "Name                             Despaña\n",
       "Likes                                885\n",
       "Rating                               9.2\n",
       "Tips                                 285\n",
       "Name: 60, dtype: object"
      ]
     },
     "execution_count": 113,
     "metadata": {},
     "output_type": "execute_result"
    }
   ],
   "source": [
    "# Resturant with maximum Rating\n",
    "hispanic_rest_stats_ny.iloc[hispanic_rest_stats_ny['Rating'].idxmax()]\n"
   ]
  },
  {
   "cell_type": "code",
   "execution_count": 114,
   "metadata": {},
   "outputs": [
    {
     "data": {
      "text/plain": [
       "Borough                        Manhattan\n",
       "Neighborhood                   Chinatown\n",
       "ID              45697387f964a520e53d1fe3\n",
       "Name                             Despaña\n",
       "Likes                                885\n",
       "Rating                               9.2\n",
       "Tips                                 285\n",
       "Name: 60, dtype: object"
      ]
     },
     "execution_count": 114,
     "metadata": {},
     "output_type": "execute_result"
    }
   ],
   "source": [
    "# Resturant with maximum Tips\n",
    "hispanic_rest_stats_ny.iloc[hispanic_rest_stats_ny['Tips'].idxmax()]\n"
   ]
  },
  {
   "cell_type": "markdown",
   "metadata": {},
   "source": [
    "Now lets visualize neighborhood with maximum average rating of resturants\n"
   ]
  },
  {
   "cell_type": "code",
   "execution_count": 115,
   "metadata": {},
   "outputs": [
    {
     "data": {
      "text/html": [
       "<div>\n",
       "<style scoped>\n",
       "    .dataframe tbody tr th:only-of-type {\n",
       "        vertical-align: middle;\n",
       "    }\n",
       "\n",
       "    .dataframe tbody tr th {\n",
       "        vertical-align: top;\n",
       "    }\n",
       "\n",
       "    .dataframe thead th {\n",
       "        text-align: right;\n",
       "    }\n",
       "</style>\n",
       "<table border=\"1\" class=\"dataframe\">\n",
       "  <thead>\n",
       "    <tr style=\"text-align: right;\">\n",
       "      <th></th>\n",
       "      <th>Neighborhood</th>\n",
       "      <th>Average Rating</th>\n",
       "    </tr>\n",
       "  </thead>\n",
       "  <tbody>\n",
       "    <tr>\n",
       "      <th>12</th>\n",
       "      <td>Chinatown</td>\n",
       "      <td>9.20</td>\n",
       "    </tr>\n",
       "    <tr>\n",
       "      <th>40</th>\n",
       "      <td>Little Italy</td>\n",
       "      <td>9.20</td>\n",
       "    </tr>\n",
       "    <tr>\n",
       "      <th>66</th>\n",
       "      <td>Soho</td>\n",
       "      <td>9.20</td>\n",
       "    </tr>\n",
       "    <tr>\n",
       "      <th>16</th>\n",
       "      <td>Cobble Hill</td>\n",
       "      <td>9.00</td>\n",
       "    </tr>\n",
       "    <tr>\n",
       "      <th>30</th>\n",
       "      <td>Gramercy</td>\n",
       "      <td>9.00</td>\n",
       "    </tr>\n",
       "    <tr>\n",
       "      <th>25</th>\n",
       "      <td>Flatiron</td>\n",
       "      <td>9.00</td>\n",
       "    </tr>\n",
       "    <tr>\n",
       "      <th>39</th>\n",
       "      <td>Lenox Hill</td>\n",
       "      <td>8.85</td>\n",
       "    </tr>\n",
       "    <tr>\n",
       "      <th>75</th>\n",
       "      <td>Upper East Side</td>\n",
       "      <td>8.85</td>\n",
       "    </tr>\n",
       "    <tr>\n",
       "      <th>10</th>\n",
       "      <td>Central Harlem</td>\n",
       "      <td>8.30</td>\n",
       "    </tr>\n",
       "    <tr>\n",
       "      <th>9</th>\n",
       "      <td>Carroll Gardens</td>\n",
       "      <td>8.00</td>\n",
       "    </tr>\n",
       "  </tbody>\n",
       "</table>\n",
       "</div>"
      ],
      "text/plain": [
       "       Neighborhood  Average Rating\n",
       "12        Chinatown            9.20\n",
       "40     Little Italy            9.20\n",
       "66             Soho            9.20\n",
       "16      Cobble Hill            9.00\n",
       "30         Gramercy            9.00\n",
       "25         Flatiron            9.00\n",
       "39       Lenox Hill            8.85\n",
       "75  Upper East Side            8.85\n",
       "10   Central Harlem            8.30\n",
       "9   Carroll Gardens            8.00"
      ]
     },
     "execution_count": 115,
     "metadata": {},
     "output_type": "execute_result"
    }
   ],
   "source": [
    "\n",
    "ny_neighborhood_stats=hispanic_rest_stats_ny.groupby('Neighborhood',as_index=False).mean()[['Neighborhood','Rating']]\n",
    "ny_neighborhood_stats.columns=['Neighborhood','Average Rating']\n",
    "ny_neighborhood_stats.sort_values(['Average Rating'],ascending=False).head(10)\n"
   ]
  },
  {
   "cell_type": "markdown",
   "metadata": {},
   "source": [
    "Above are the top neighborhoods with top average rating of Hispanic/Latinos resturants\n"
   ]
  },
  {
   "cell_type": "code",
   "execution_count": 116,
   "metadata": {},
   "outputs": [
    {
     "data": {
      "text/html": [
       "<div>\n",
       "<style scoped>\n",
       "    .dataframe tbody tr th:only-of-type {\n",
       "        vertical-align: middle;\n",
       "    }\n",
       "\n",
       "    .dataframe tbody tr th {\n",
       "        vertical-align: top;\n",
       "    }\n",
       "\n",
       "    .dataframe thead th {\n",
       "        text-align: right;\n",
       "    }\n",
       "</style>\n",
       "<table border=\"1\" class=\"dataframe\">\n",
       "  <thead>\n",
       "    <tr style=\"text-align: right;\">\n",
       "      <th></th>\n",
       "      <th>Borough</th>\n",
       "      <th>Average Rating</th>\n",
       "    </tr>\n",
       "  </thead>\n",
       "  <tbody>\n",
       "    <tr>\n",
       "      <th>2</th>\n",
       "      <td>Manhattan</td>\n",
       "      <td>7.737037</td>\n",
       "    </tr>\n",
       "    <tr>\n",
       "      <th>4</th>\n",
       "      <td>Staten Island</td>\n",
       "      <td>6.537500</td>\n",
       "    </tr>\n",
       "    <tr>\n",
       "      <th>3</th>\n",
       "      <td>Queens</td>\n",
       "      <td>6.207692</td>\n",
       "    </tr>\n",
       "    <tr>\n",
       "      <th>0</th>\n",
       "      <td>Bronx</td>\n",
       "      <td>5.942105</td>\n",
       "    </tr>\n",
       "    <tr>\n",
       "      <th>1</th>\n",
       "      <td>Brooklyn</td>\n",
       "      <td>5.518182</td>\n",
       "    </tr>\n",
       "  </tbody>\n",
       "</table>\n",
       "</div>"
      ],
      "text/plain": [
       "         Borough  Average Rating\n",
       "2      Manhattan        7.737037\n",
       "4  Staten Island        6.537500\n",
       "3         Queens        6.207692\n",
       "0          Bronx        5.942105\n",
       "1       Brooklyn        5.518182"
      ]
     },
     "execution_count": 116,
     "metadata": {},
     "output_type": "execute_result"
    }
   ],
   "source": [
    "\n",
    "ny_borough_stats=hispanic_rest_stats_ny.groupby('Borough',as_index=False).mean()[['Borough','Rating']]\n",
    "ny_borough_stats.columns=['Borough','Average Rating']\n",
    "ny_borough_stats.sort_values(['Average Rating'],ascending=False).head()"
   ]
  },
  {
   "cell_type": "markdown",
   "metadata": {},
   "source": [
    "Similarly these are the average rating of Hispanic/Latinos Resturants for each Borough\n",
    "\n",
    "Lets visualize it\n"
   ]
  },
  {
   "cell_type": "code",
   "execution_count": 117,
   "metadata": {},
   "outputs": [
    {
     "data": {
      "image/png": "iVBORw0KGgoAAAANSUhEUgAAAv0AAAIgCAYAAAAWZtblAAAABHNCSVQICAgIfAhkiAAAAAlwSFlzAAAPYQAAD2EBqD+naQAAADl0RVh0U29mdHdhcmUAbWF0cGxvdGxpYiB2ZXJzaW9uIDMuMC4yLCBodHRwOi8vbWF0cGxvdGxpYi5vcmcvOIA7rQAAIABJREFUeJzs3Xm4HGWV+PHvIUAkmAAiEBgUUBB3UEFBUcENhFFhBsUFBdRRUVRcfkKEGWBAQJFFUESHEVDccBkVcWfRAVzAEQERUVkkBgiLJKyBhPP7462GTqdv0l23b7pv5ft5nn7u7aq3q05XVXeffvvUW5GZSJIkSWqulYYdgCRJkqSJZdIvSZIkNZxJvyRJktRwJv2SJElSw5n0S5IkSQ1n0i9JkiQ1nEm/JEmS1HAm/ZIkSVLDmfRLkiRJDWfSr75FxPsiIiPiymHH0lQRsWdEvK/L9JWrbX/wMOLqVUQ8NiLOiohbq3i/uZS2F0bEZWPMm9n5fCPiZdW07SYi9okQEW+vYt6w5uPXiYiFEfGq6v7siPjOgGLbLiIOjYgZXeZdGBE/G8R6Bq1tm7ZuCyNiTkR8JSKeOMHr3i8i3jKR6xikiHh0tY9fNODlvjEiroqI+6t98PRBLn8ULO39qcfHz+44Tu+PiL9ExCcjYu1BxjpsEXFE9RzXHHYs6m7lYQegSemt1d+nRcTzMvPXQ42mmfYENgVObJ+YmQsjYlvgxqFE1btDgFcD+wDXAbcPcNm/AbYF/jDAZU607wJXAnNrPn5X4F7gpwOL6BHbUfbXqcD8jnnvAHIC1jlIbwH+DKxGeS4fBXaIiCdn5rwJWud+wGzgixO0/EF7NGUfLwR+MYgFRsRM4Azg+8C7gAeAvw5i2Q30C+CA6v/VgOdS9scLgecNKyiteEz61ZeI2ArYAjgH2AV4G7Dck/6ICGBqZt6/vNddR0Sslpn3DWJZmfmrQSxngj0duCYzvzroBWfmfGAybIOHZeatwK3jWMTuwDnL+3jPzKuW5/pquiIzWz2x50fEKsC/U750fml4YfUvIqZl5r3DjqNHm1NyiC9l5qC+SEym59+Pf3S8b58fEWsAsyLiCZl57XhX0OBtpwGyvEf9elv190DgYuD1ETGtNTMiVo2I2yLitM4HRsTaEbEgIj7RNm2NiDg2Iq6LiAeqn0KP61hmq6TlhIh4d0RcTelV2rOa/58R8ZuIuCMi5kfEbyNi7+qLQfv6HxURx0fELRFxb0RcEBFbVus8taPtBhHxXxHx9yquv0bEwRExZVkbqFV6ERGvjYjLIuJ+4KBq3nsj4n+rspd7IuLyiPhwRKzc9vgLgR2BJ7aXLnRsi/Zyl1aZw4si4nMRcXt1+2bVG1drG4zx3NaOiFOqMooHIuLaiDg8Ilat5m8aEQlsDzyjLf6BleJEl/Kear1nRcRN1TF2c0T8LCKe0damtV92j4grqnZ/jYj3dCx/teoY/H1EzKuOq4ujKq1pa9d+XO4VEVdX2/SyiHhlR9uu5T0RsXNEnF+t594opRIf6WizFrAD8K0+t9OOEfG96nnfFxF/joiTo62kICKOAI6q7t7Yub+io7yntX8j4gMR8f8i4vqIuLvaPs/tEsOuEfHr6rnNj4ifRMTzOtqsFxGnRsSN1T65tVrvDv083zaXVn/X6xLPGyLiV1U8d0XEjyJii442Sz2WImI2JeF9adv2+ks1b6z93O2YvbA6VnaIiF9GxL3A56t5b4yIn1Yx3BcRf4yII6PtfbFqd2ZE3BkRT6qeyz0R8beI+ET7axK4qXrI4W0xn1p3+0fEmcAF1d1vVctrP0562e+tUpAtIuLbEXEn8Kex1lk9pqf35ejxM6Fqu2d1TNxTHRO/i4i9u7R7XkRcVD2nv0bER7otrw+tX6Ee7FjPuLddj8s4s3Xcdln2wo5pj4mI0yLiH9U2OjsiNouxS03Xj4ivV+u+uTq+ligf1PJnT796FhGrAW8ALsnMKyPiC5SSgNdSfuYlMx+IiK8Ab42I92bm3W2LeCOwKnB6tbxHA/8LzAQ+Ril/eAZwGPD0iNgxM9tLC3anlEccCtxS3QA2Aj5LKXkJYJvq/gbAkW2P/yLwL8DHKR9YT6eUXSz2ZhQRG1BKSB6o1nUt8AJK7+FGwL/1sLmeWy3/COB6oLUdngh8mVLy8iCwJaUc4UmUUgqqv/8NbEjZttBbicUXgLMp+2gj4BPVc35FW5uetkE3VcJxAbAx5afpK4AXA7OAZwKvoeyDbYHPUX7GbtU9L7MUJ9q++LRZ5pesyg+Bh4D/B/wNeCxln63V0W4ryjY/lHL8vBn4dESskpknVG1WA9akbL85wFTg5cB3IuLNmfmVjmW+hnLMHQzcQ/lC/J2IeFJm3jBWwBHxTuAU4DxKecRcSjL5lI6mr6aUZfxwmVthcZsCFwH/RUkwNgE+BPwiIrbIzIXV+tcC3l2tp/VrxLL21/uAq4D3U15zRwA/iIhNMvOu6vm9hfK+8CPg9ZTtegDw84jYITN/WS3ry5Tj8GDgmiqe5wB16503qf5e0z4xIv6Dst9PBQ6n7NePABdGxFaZ2UqalnUsvQr4H8r+ap13U/cXmA0p2+hoyutoUTV9U0rZzPGUsq4nU46rrVj89Uz1PL5L2c/HUL5wHwzcSXn/u5Hyq+w5lNfl6dXjWqVmdbb/IZRfeE+k7NNfUCWxfez3lu9WMZwMTGMMfb4v9/SZEBFHUrb7Nynbbj7lM2jjjtVvQHnvPLZ67rtT3kNnA53vB2OE//D722rA1pRj5+eZeWNbo3FvuxrLWFbgUyjHzhbVc7+Mst1/sJSHfRv4GuWY3ILy+f4Qj3zGaVgy05u3nm6UBCmBd1b3Hw3cBfyio92zqnb7dEz/LfCrtvsHU5KZZ3W026N6/Mur+ytX9+8A1lhGjCtV7Q8Dbmmb/sxqGUd0tN+zmn5q27RTKR9gG3a0PYDyxvWkZcQwm/LB9MQeY92H8gVgRtu8HwF/6fKY1rY4uG3a26tpn+poO6uavk6/22CMeN9TtdutY/pHq+k7tE27ELisx+PqwurxS7u1P9+XVdO2q+6vV91/Tw/75SHg6R3TzwP+ATxqjMdNqbb76cBvuuyLOcDqbdM3qKZ/uMs+2rC6P4OSYJwPxDLiPhv4dpfn8p0+XrtRxfuEKo6d2+Yd2B5bl33zs7b7m1Ztfwes1DZ922r67m3b7OYu7WYAt1GSnda0+4Bjen0uXbbpc6rn9mhgJ8qXufOAKW1tN6a81xzXsYzpVfsv93ksXd2+Xcbaz2Mdsx3H/Yt63Hcvqdo/tW3emXR/Tf4YuLLt/kw6XkcD2P6t57Rrx2ul1/1+RPX4f+9xfbXelxn7M2FTypes05ex3gur5T+7Y59cDXy/h7hn0/097ZfAuoPcdn0u40y6f8YcASxsu//qal1v72h3cOcx1RbXBzrafg64u99jzNvgb5b3qB9vo3xAfA0gSy/+N4AXRsRmrUaZ+TtKb8A+rWlRfhp/NqU3uuWfgd8DV0QplVi56g35UTV/+471/yy7nJgX5afzcyNiHuVN/EHgP4B145FShhdXf8/qePhZlDf0dv8MnAvc3BHXDylv9i9m2S7LzCVOaouI51Q/jd7eFusXKB9Km3W279P3Ou5fXv19fPW3n23QzUuA+Zn5Px3TT6/+vrSHZYzlGkrvV+dtpx4eeyvl15QDI2L/KOVKY723/T4zO0ed+gqlZ3/L1oSI2CNKyco9lGTxQWAvluyFBzg3M+9p3cnMOZQP2I2WEvN2lITz5Kw+FbuJiOmUXxn6Ku2pHrteRHw+SjlK6zm0jsluz6Mf38/M9mOmday1nvNTKQn0F9vbZTkf49vACyJiajX5N8DbIuKgqoRilT5juZTy3O6ivEZvpSSii9ra7ERJiL7Y8Zq+j/Jr4/ZVu36OpUG4NbvUw0cpMfpqRNzCI+8T51azO/fdIkpPbLvLWfrx1268279dP/u9pddju+f35R4/E15B+ULwmR7W/ffM/L+255OUXzp73cY/55H3tBdQvhyuD5wXEY+p2gxi29VZxrKM9bmxtPO1un0WrR4NG61oMjLpV0+i1IW+iPLhEhGxZpRhuVpDMb614yGnUb4MbFrd34fyAfv1tjbrUb4IPNhxu7Oa/9iOZd7UcZ8oI9n8iPLG/nbg+ZQ31qOrJqtVf1tvNre0Pz4zH6D08rZbF9itS1y/HyOubrrFugnlZ/CZlLKI7apY398Ra12dI+Qs6FhuP9ugm7Xp8rwoPUtJ/XIMgPsy89LOG49s8zFVH247UEa2mUXp5Zobpdb+0V1i7RY/rfgj4nWUL7Z/A95E6cXemvLzfrd91G1kogVjtG1Zp/o7eyltoJSSBKXUo2fVT/I/o/TSHU35QvZcyjHHMmLrRa/HWrfjZQ4lAW8N67c75YTbd1BO0L49Ik6PiHV7jOVNlP3zEko5wdMoJQ/tWvX9v2PJ1/W/Ur2m+zyWBqHb+8QMyheRrSi/or2Y8vxapX6d++7u6jXcblnHX7vxbv92/ex3ltK2m57el/v4TOj1NQj1XuPt7mx7X7s4M/+b8gvr04APVG0Gse3qLGNZ1gbur744tLulW+PKst4fNCTW9KtXb6UkH7tXt057RcTBbb1rX6bUSO4dEYdSPpi/3dFTfxslwR+rRr5ztJNuPaJvoLyh/HP7B19EdMbYehNaj7Y3qygnu3XWfd9O6f06ZIy4/j7G9GXFuhul7nK3zHz4gybKiEjLQz/bYKzHb9ll+kzKsXHbeAOsKzOvp/riGRGbU0rEDqG8x+3X1nTmEg9+ZFpr++xJGQLyDe298DV6yJamdWwva9z+f2WMX7iWYQtKnfaemflwAhwRT+5zOXW1tuX6XeZtQEnI7oSHRzZ6P/D+iNiIco7EUZQk7p97WNdVueToPXtHxK6Z2bqWQevY3JXur9+H93Mfx1I3rdr+zmNlrI6Cbu8TL6Mck9tl5kWtiRHRS2dD3waw/dv1vN/bQ+hj2b28L/f6mdD+Guz1i8cgtX4da51IPoht188y7mfJ4xSWPFZvBx4VEWt0vA91ey/ViLOnX8tU9RruRSkN2KHL7VjKm8zDI5Zk5u2UWuS9KL2N67J4aQ+U3stNKT9xL9HLm0s5CbJNUnp7Hv4pszrhdM+Odj+v/u7RMf11LPk6+D6l/v3PY8RV9wOi9Qbd6vWgKh14e5e2/fQi9aqfbdDNucAa0TGKDY+crHsuIyAz/5SZ/0k50fTZHbO3iIindUx7I+WDsJU4JvBAR8K/Af0nQEtzIaUc5V1jNaiO452oUdpDl2Ot8s4ubSeiF+4qyi8ob4x4ZISTqlxpN+DCzOyMjcy8ITNPpNTkd+67Xn2YUvt9eFtpTqvn94ljvKZ/221BSzmWxnp9Xl/9fWbH9Ff3EX8/+65XPe3jAWz/Wvu9R72+L/f6mfDjqs2+NeMZr1YHSuuE6kFsu36WcT1llJ112tpNZckTxVufG6/rmP76ZcSiEWRPv3rxSkovwQGZeUHnzChX5t2PUvPfXobwBUpP5aeAGygnLbY7jvJG9IuIOIFSIzmFUoP+CuDjVYnH0pxDGQXhzChD0D2WMiLHYuMVZ+blEfEN4IAoQ0r+nNIT+gFK8tVen3wwpRzi4og4iTIU2mqUUUF2Ad6amd3KRJblJ5QPo69GxLHVMt9N95FzrgBeHRHvoCSji8ZKTHrV5zbo5nTKB+SZUUZCuYpycZlZwPe6HRvLQ0Q8m3IsfZPSQ/8gpbf0aZRRWtrNAc6JiEMoH7Zvpnxx/VA+Mgb+94HPV/v+fyjH439Uj33CIGLOzPkR8f+AUyLip5STFOdSzut4ema+D9iZMtrVd8dYzAZdei+hjAx1BeVD/RNV3fOdlMSz23kXV1R/948yFOODwNW5+MhbfcnMRRFxAGUUke9FxOeBR1FOGp5OOWaoanx/TKkPvpoyytXzKOcxfL3LontZ9+0R8XHKKC2vA76WmX+NiMOAo6uSwx9TtslMStnTvMz8zz6OpSuAf61Kwa6jlKddSSmP+QtwfJVA3Ul5D9ymj6dwYfW4z1cxL6Icp51fVnuWmf+IiL8Du0XEBZRyvlsp23tg27/X/V5Tr+/LvX4m/LU6TmZVXwrOopxc/zRgzcw8bByxdlorIlrHwKqU8zIOonwZO7mKZ9zbrs9lfJXyq8nXIuKTlF+h38+SzqEc15+qSnp/RzkvofUlqpfzwTQqej3j19uKe6MkPguoRoEZo81XKR+Q67VNm0L5yTWBQ8d43KMpZ/xfXa3jTkqN5rE8MupMa5SUE8ZYxtspHwD3U36N+AiPXEl0w7Z2jwJOoCRX91GGM3wuJeH9RMcy16UMR3cdZSSe24FLKB/8qy1je405sgol8fp9tf4bKXWmu7DkyB6PofTw/qOat7BjW3QbvWfLjnV1GzGk520wRvxrU0ZiuKna39dV+2/Vjnb9jt7TtS1dRh3pfF5Vm9N5JGmZT/mi9D4WH8FiNvAdSiL4h+p4uxZ4X8c6g1JLfV11TP2BUu7ROarFmMdlta72EaHGGtXlnynnedxNGe7zD5QvIFBeU0uMENO2/G4jgmRrvZTk5afV9riDcp7CRl22Z1CGH5xDSTDbt+1Yo/fs3xHPEsdlNX03ytCO91XH2E+Bbdrmr0YZNvRySu/8PcAfKV+yuo6mtKzjvm25s6tlrdQRzwXVuu6v9vFZVCNP9XEsbUL5En9XFcNf2uZtXj3PeZTX2QmUczM6X4tLO+5fQBnd5R5KKd7nKDX+SSnZarU7k1Iv3vn4xY7VatrLq+dyf+s4Gef2X2L0nl73e1uMSUmwe/0s6ul9mR4/E6q2e1XLuK/a378F3rKs/cQYo9/08Fp9kPKF/OvAMydi2/WyjKrdLtUxcS/ly+q+Yxw7j6G8Lu6sjpEf88iIXe9eVlyM8f7nbfnfotoh0gopIl5E6fHeIzM7RydYIawo2yDKKDaXZuauw45lWape4lspv659dtjxSFK7eOR6AM/LzN8MOx71xvIerTAiYkdKr/ZvKT1AW1J+9ryasUsoGsVtMDlkqbv1CpaShi4i3kT5FexKSo/9tpRzZ8434Z9cTPq1IrmLcmLkByj1jbdR6hVnZf2TyyYbt4EkqR93UwY82JRS+z+HctX4fx9mUOqf5T2SJElSwzlkpyRJktRwJv2SJElSw5n0S5IkSQ3XyBN5qyvRbUA5aVGSJElqkunAnOzj5NxGJv2UhH/2sIOQJEmSJsiGlIug9qSpSf9dADfeeCMzZjjUtSRJkpph/vz5PO5xj4M+K1pGMumPiJWBQ4HWBSFuolwC+ojMfKjX5cyYMcOkX5IkSSu8kUz6gQOAdwF7AX8AtgJOA+YBnxpiXJIkSdKkM6pJ/7bAdzPznOr+9RHxBkryL0mSJKkPozpk54XASyPiSQARsQWwHfCDbo0jYmpEzGjdKGc0S5IkSWJ0e/o/DqwBXB0Ri4ApwEGZ+dUx2s8CDllewUmSJK0oFi1axIMPPjjsMFYYq6yyClOmTBn4ckc16d8D2BN4I6Wmf0vghIiYk5lndGl/FHBc2/3pOGSnJElSbZnJzTffzJ133jnsUFY4a665JjNnzqRcemowRjXpPwY4OjO/Vt2/IiI2ovToL5H0Z+YCYEHr/iA3kCRJ0oqolfCvu+66TJs2zfxqOchM7r33XubOnQvA+uuvP7Blj2rSPw3oHJpzEaN7DoIkSVJjLFq06OGEf+211x52OCuU1VZbDYC5c+ey7rrrDqzUZ1ST/rOBgyLib5TynmcBHwS+MNSoJEmSVgCtGv5p06YNOZIVU2u7P/jgg41P+t8LHA6cDKwLzAE+B/znMIOSJElakVjSMxwTsd1HMunPzLuA/aubJEmSpHGwRl6SJEnqwcYbb8wJJ5ww7DBqGcmefkmSJI2mjQ88Z7mu7/qjd+mr/d57780ZZ5TBHqdMmcIGG2zALrvswpFHHslaa63V0zJOP/109t9//yWGK73kkktYffXV+4pnVJj0S5IkqVF22mknTjvtNBYuXMhVV13FW9/6Vu68806++tWxrvPam3XWWWdAES5/lvdIkiSpUaZOncrMmTPZcMMNecUrXsEee+zBT37yk4fnH3fccTzjGc9g9dVX53GPexzvfve7ufvuuwG44IIL2GeffZg3bx4RQURw6KGHAkuW90QEp556KrvtthvTpk1js80243vf+95isXzve99js802Y7XVVmOHHXbgjDPOICKW+0XPTPolSZLUWNdeey0/+tGPWGWVVR6ettJKK3HiiSdy5ZVXcsYZZ3DeeefxkY98BIDnP//5nHDCCcyYMYObbrqJm266iQ9/+MNjLv+www7jda97HZdffjk777wzb3rTm7jjjjsAuP7669l9993Zddddueyyy3jnO9/JQQcdNLFPeAyW90jSJLW862oni37rfyU1z/e//30e/ehHs2jRIu6//36g9O637L//IwNEbrLJJhx++OHsu+++nHzyyay66qqsscYaRAQzZ85c5rr23ntv3vCGNwBw5JFHctJJJ/Gb3/yGnXbaiVNOOYXNN9+cY445BoDNN9+cK6+8ko997GODfLo9MemXJElSo+ywww589rOf5d577+XUU0/lmmuu4b3vfe/D888//3yOPPJIrrrqKubPn8/ChQu5//77ueeee/o+UfeZz3zmw/+vvvrqTJ8+nblz5wLwpz/9ia233nqx9s997nPH8czqs7xHkiRJjbL66quz6aab8sxnPpMTTzyRBQsWcNhhhwFwww03sPPOO/P0pz+db33rW/z2t7/lM5/5DPDIlYj70V42BKXO/6GHHgIgM5e40FZm1nlK42bSL0mSpEY75JBD+OQnP8mcOXO49NJLWbhwIcceeyzbbLMNT3rSk5gzZ85i7VdddVUWLVo07vU++clP5pJLLlls2qWXXjru5dZh0i9JkqRG23777Xna057GkUceyROf+EQWLlzISSedxLXXXsuXvvQlTjnllMXab7zxxtx9992ce+653Hbbbdx777211vvOd76Tq6++mgMOOIBrrrmGs846i9NPPx1giV8AJpo1/ZIkSerZZD1Z/oMf/CD77LMPBxxwAMcddxwf//jHmTVrFi960Ys46qijeMtb3vJw2+c///m8613vYo899uD222/nkEMOeXjYzn5ssskmfPOb3+RDH/oQn/rUp9h222056KCD2HfffZk6deoAn92yxbDqiiZSRMwA5s2bN48ZM2YMOxxJmhCO3tPdZE1IpFFy//33c91117HJJpvwqEc9atjhNMrHPvYxTjnlFG688cYx2yxt+8+fP5811lgDYI3MnN/reu3plyRJkibIySefzNZbb83aa6/NRRddxDHHHMN+++233OMw6ZckSZImyJ///GeOOOII7rjjDh7/+MfzoQ99iFmzZi33OEz6JUmSpAly/PHHc/zxxw87DEfvkSRJkprOpF+SJEldNXHAl8lgIra7Sb8kSZIW07rKbN3x6TU+re3eebXf8bCmX5IkSYuZMmUKa665JnPnzgVg2rRpy/1iUiuizOTee+9l7ty5rLnmmkyZMmVgyzbplyRJ0hJmzpwJ8HDir+VnzTXXfHj7D4pJvyRJkpYQEay//vqsu+66PPjgg8MOZ4WxyiqrDLSHv8WkX5IkSWOaMmXKhCShWr48kVeSJElqOJN+SZIkqeFM+iVJkqSGM+mXJEmSGs6kX5IkSWo4k35JkiSp4Uz6JUmSpIYz6ZckSZIazqRfkiRJajiTfkmSJKnhTPolSZKkhjPplyRJkhrOpF+SJElquJFM+iPi+ojILrfPDDs2SZIkabJZedgBjGFrYErb/acDPwW+MZxwJEmSpMlrJJP+zLy1/X5EHAj8Ffj5cCKSJEmSJq+RTPrbRcSqwJ7AcZmZY7SZCkxtmzR9ecQmSZIkTQYjWdPfYVdgTeD0pbSZBcxru82e+LAkSZKkyWEyJP1vA36YmXOW0uYoYI2224bLIzBJkiRpMhjp8p6I2Ah4GfAvS2uXmQuABW2Pm+DIJEmSpMlj1Hv69wHmAucMOxBJkiRpshrZpD8iVqIk/Wdk5sJhxyNJkiRNViOb9FPKeh4PfGHYgUiSJEmT2cjW9GfmTwCL8yVJkqRxGuWefkmSJEkDYNIvSZIkNZxJvyRJktRwJv2SJElSw5n0S5IkSQ1n0i9JkiQ1nEm/JEmS1HAm/ZIkSVLDmfRLkiRJDWfSL0mSJDWcSb8kSZLUcCb9kiRJUsOZ9EuSJEkNZ9IvSZIkNZxJvyRJktRwKw87AEmSJI2OjQ88Z9ghjKTrj95l2CGMiz39kiRJUsOZ9EuSJEkNZ9IvSZIkNZxJvyRJktRwJv2SJElSw5n0S5IkSQ1n0i9JkiQ1nEm/JEmS1HAm/ZIkSVLDmfRLkiRJDWfSL0mSJDWcSb8kSZLUcCb9kiRJUsOZ9EuSJEkNt/KwA5AkSRNv4wPPGXYII+f6o3cZdgjScmNPvyRJktRwJv2SJElSw5n0S5IkSQ1n0i9JkiQ1nEm/JEmS1HAjm/RHxD9FxJkRcXtE3BsRl0XEc4YdlyRJkjTZjOSQnRGxFnARcD7wSmAu8ETgzmHGJUmSJE1GI5n0AwcAN2bmPm3Trh9SLJIkSdKkNqrlPa8GLo2Ib0TE3Ij4XUT821iNI2JqRMxo3YDpyy9USZIkabSNatL/BGBf4M/AjsApwIkR8ZYx2s8C5rXdZi+PICVJkqTJYFST/pWA/8vMj2bm7zLzc8B/Ub4IdHMUsEbbbcPlE6YkSZI0+ka1pv8m4KqOaX8E/rVb48xcACxo3Y+IiYusho0PPGfYIYyk64/eZdghSJIkrRBGtaf/ImDzjmlPAm4YQiySJEnSpDaqSf/xwDYR8dGI2DQi3gi8A/jMkOOSJEmSJp2RTPoz8xJgN+ANwJXAvwP7Z+aXhxqYJEmSNAmNak0/mfl94PvDjkOSJEma7Eayp1+SJEnS4Jj0S5IkSQ1n0i9JkiQ1nEm/JEmS1HAm/ZIkSVLD1Rq9JyJ+0mPTB4DbgcuAb2Tm7DrrkyRJklRf3SE7X1b9TSDGaNM+783AURFxYGaeUHOdkiRJkmqoW96zGXAisBD4CuVCWs8Btqr+/0o179PA9pSLaz0AHBs7lIXwAAAgAElEQVQRO40vZEmSJEn9qNvTvxXwHuCVmfmzjnn/B3w3Ik4DfgRcnJkfi4iLgPOA91bTJUmSJC0HdXv6/x/wiy4J/8My81zgF8CHq/sXUGr7t665TkmSJEk11E36nwLc0kO7W6q2LX8B1qi5TkmSJEk11E367wK2jYgxy4OqedsCd7dNngbMq7lOSZIkSTXUTfrPAR4PfCkiZnbOjIj1gC9Wbb7fNuspwHU11ylJkiSphron8s4CdgD2AHarTtK9kTJM5+OB5wNTgRuAjwJExLOqeV8aZ8ySJEmS+lAr6c/MuRHxPOAY4PWULwDtHqAk9x/JzFuqx/wOWGUcsUqSJEmqoW5PP5l5K7B3RLyPMkb/BtWsm4BLM3P+AOKTVjgbH3jOsEMYOdcfvcuwQ5AkaVKrnfS3VMn9+QOIRZIkSdIEqHsiryRJkqRJonZPf0SsCrwOeBGwPuXE3W4yM3esux5JkiRJ41Mr6Y+I9YFzgc2BWEbzrLMOSZIkSYNRt6f/k8CTgV8DxwHXsPhFuCRJkiSNiLpJ/46Ucflfkpn3DTAeSZIkSQNW90Te1YDfmPBLkiRJo69u0n8F8E+DDESSJEnSxKib9B8DPDciXjjIYCRJkiQNXt2a/l8CxwJnR8QngZ8CsxljpJ7MnFNzPZIkSZLGqW7S30rwAzisuo0lx7EeSZIkSeNUNxm/GMfflyRJkiaFWkl/Zm436EAkSZIkTYy6J/JKkiRJmiRM+iVJkqSG66m8JyLeWP37vcy8u+1+TzLzK31HJkmSJGkgeq3pP5Ny4u5TgGva7i9LVO1M+iVJkqQh6TXpP5KSvN/WcV+SJEnSiOsp6c/Mg5d2X5IkSdLoGskTeSPi0IjIjtvNw45LkiRJmoxqJf0R8UBEfL6HdqdExII66wD+AKzfdntGzeVIkiRJK7S6V+RducfHThnHOhZmpr37kiRJ0jhNdHnPDOCBmo/dLCLmRMR1EfG1iHjCWA0jYmpEzGjdgOk11ylJkiQ1Ts+98BGxQcekaV2mtS93c+AVwF9rxPVr4C2U4UHXAw4GLo6Ip2Xm7V3azwIOqbEeSZIkqfH6Kb2ZzeLDdL62ui1NAIf1G1Rm/rDt7hUR8UvKl4e9gOO6POSojunTq3glSZKkFV4/Sf/FPJL0vwC4FfjzGG0fAOZQruD7jfrhFZl5T0RcAWw2xvwFwMMnDEfEeFcpSZIkNUbPSX9mbtf6PyIeAn6QmW+dkKg6RMRUytWA/3d5rE+SJElqkroj62wGzB9kIO0i4pPA2cDfgHUpNf0zgDMmap2SJElSU9VK+jOzzsm5/dgQ+CrwWEoZ0a+AbTLzhgleryRJktQ4dXv6AYiIRwEvpvT8T6ecuNspM/Oofpabma8fT1ySJEmSHlE76Y+IPYFPAWu2T2bxEX5a9/tK+iVJkiQNTq2Lc0XESyj19SsBn6CU3wC8BzgeuJaS8H8GeMf4w5QkSZJUV90r8n6Y0oP/ksycRbmIFpn52cz8MPBU4NPA3sAvBxCnJEmSpJrqJv1bA7/OzN91m5mZDwIfAG4D/rPmOiRJkiQNQN2kfzrQPpLOAoCImN6akJmLKGU/L6wdnSRJkqRxq5v030IZTrPl5urvkzrarQVMq7kOSZIkSQNQN+m/mjJMZ8vFlBN3PxwRARARzwNeQlXvL0mSJGk46ib95wAbRcRzq/s/A64EXgf8LSJ+DfwcmAKcOO4oJUmSJNVWN+n/IvAqytVyycyHgF2A84ENKCf6LgAOzcwzBhCnJEmSpJpqXZwrM++k9Pa3T7sReFl1Mu+awE2ZuXD8IUqSJEkaj9pX5B1LZt4F3DXo5UqSJEmqp255T08iYueIuHAi1yFJkiRp6Qbe0w8QEbsDHwW2mIjlS5IkSepdzz39ETEzIk6OiL9GxF3V309HxDptbV4TEX8Avg5sCcwFPjT4sCVJkiT1qqee/ohYm3J13cdRxuMH2AR4N/CSaujOTwF7V/PnAp8ATs7M+wccsyRJkqQ+9FrecwDweOBPwOHAH4DpwCuBDwLnAVtRhun8GHBsZt438GglSZIk9a3XpH9nYD6wQ2be3Db9woiYCxwPJLBzZp4/4BglSZIkjUOvNf0bA7/qSPhbzqr+/tKEX5IkSRo9vSb904A53WZk5k3Vv9cOJCJJkiRJAzXIcfq9+q4kSZI0gvoZp3/diHh+nfmZeXF/YUmSJEkalH6S/ldWt37nZ5/rkSRJkjRAvSbjF1OSd0mSJEmTTE9Jf2ZuN9GBSJIkSZoYgzyRV5IkSdIIMumXJEmSGs6kX5IkSWo4k35JkiSp4Uz6JUmSpIYz6ZckSZIazqRfkiRJajiTfkmSJKnher0i75gi4unA1sBjgasy85xq+irAKpl573jXIUmSJKm+2j39EbF5RFwE/B44FTga+Ne2Jv8G3BURO44vREmSJEnjUSvpj4jHAb8AtgXOAWYB0dHsa8CDLP5FQJIkSdJyVren/1BKOc/bMvPVmfmJzgaZeQdwFbBN/fAgImZFREbECeNZjiRJkrSiqpv07wj8PjNPW0a7vwH/VHMdRMTWwDuAy+suQ5IkSVrR1U361wH+3EO7h4DV6qwgIh4NfJlybsA/6ixDkiRJUv2k/zZg4x7aPRmYU3MdnwHOycyf1Xy8JEmSJOon/T8HtoqIbcdqEBE7U5L+vpP2iHg98GzKCcK9tJ8aETNaN2B6v+uUJEmSmqpu0n80sBA4OyL2ioi1WjMiYrUqaT8NuA84tp8FVyMDfQrYMzPv7/Fhs4B5bbfZ/axTkiRJarJaSX9mXg68mVKv/wXgViCBPYG7KbX404G9MrOX2v92zwHWBX4bEQsjYiHwYuB91f0pXR5zFLBG223D/p+VJEmS1Ey1r8ibmWdFxKXAB4GXARsBUygj9vwM+GRm/qnGos8FntEx7TTgauDjmbmoSywLgAWt+xGdlwyQJEmSVly1k36AzLwW2G9AsbSWeRdwZfu0iLgHuD0zr+z+KEmSJEljqVvTL0mSJGmSGFdP//KSmdsPOwZJkiRpsqqV9EfEAz02fQC4HbgM+HJmnlVnfZIkSZLqq1veMxe4hfKloXW7r7q1T7sTmAm8CvhqRHw7IiwpkiRJkpajugn4RsCvgBuBdwBrZeYambkGsFY17YaqzRrACykn574G2He8QUuSJEnqXd2k/6PAjsB2mXlqZs5rzcjMeZl5KvCiqs1HMvMiYFdKuc+bxxmzJEmSpD7UTfr3As7NzBvHalDN+xnwlur+dcClwFNqrlOSJElSDXWT/n8ClrhIVhcPVW1bZgOr1lynJEmSpBrqJv1/B14aEeuM1aCa95KqbctjgTtqrlOSJElSDXWT/i9STtD9eUTs1j4iT0SsFBG7ARcAM4AzqulTgC3puNquJEmSpIlV9+JcRwFbA7sA3wQWRsRNQAIbVMsN4IfA0dVjnkIZr/+08QQsSZIkqT+1kv7MfBB4VUTsDbwLeDbw+Gr2QuAS4HPA6ZmZ1WOuBF4+3oAlSZIk9aduTz8AmXk6cHpErAq06vtvy8wF4w1MkiRJ0mCMK+lvycwHWPyEXUmSJEkjou6JvJIkSZImiXH19EfE64HXAJsB0ykn73bKzNx8POuRJEmSVF+tpD8iVgHOppyY2y3RhzKSz1jzJEmSJC0ndct7Pgi8AvgRZSjOMylJ/urAM4AjgPuAY4BVxh+mJEmSpLrqlve8HvgHsEdm3h0RiwAy8z7gD8B/RMR5wM+APwKnDyBWSZIkSTXU7enfDPh1Zt5d3U94+Kq7ZULmBcDFwHvGE6AkSZKk8amb9D8EzG+730r+1+loNxt4cs11SJIkSRqAukn/bB65Ai/AX6u/z+to9wzgnprrkCRJkjQAdZP+XwNPi4hHVfd/UP09ISJeHhFPiYgTgKdWbSVJkiQNSd2k/9vAA8COAJn5Z+AkYCPKiD5XAu+jjOBz4PjDlCRJklRXrdF7MvNsOur3M3P/iLgU2BVYC7gG+FRmXj3uKCVJkiTVNq4r8nbKzDMpY/ZLkiRJGhG1ynsiYm41Dr8kSZKkEVe3pv9RwE2DDESSJEnSxKib9F8FbDDIQCRJkiRNjLpJ/6eBF0bEtoMMRpIkSdLg1T2R9zzgVOCnEfE54Gzgb8D93Rpn5pya65EkSZI0TnWT/tlAAgHsX93GkuNYjyRJkqRxqpuMX0xJ5iVJkiSNuLoX59pu0IFIkiRJmhh1T+SVJEmSNEkMpNY+IjYBHgvckZl/HcQyJUmSJA1G7Z7+iJgaER+LiLnAX4BfAQe1zd87In4TEVsMIE5JkiRJNdVK+iNiGvBz4EDgIeDHlJF82l0EbAW8bjwBSpIkSRqfuj39HwGeC3wB2CQzd+5skJl/Bv4EvLzfhUfEvhFxeUTMr26/jIhX1oxVkiRJWqHVTfpfD9wAvCsz71tKu+uBx9VY/mzKrwhbVbfzgO9GxNNqLEuSJElaodVN+jcCLs3MRctoNw9Yq9+FZ+bZmfmDzLymuh0E3A1sUyNWSZIkaYVWd/Seeymj9SzLJsAdNdcBQERMAV4LrA78cow2U4GpbZOmj2edkiRJUpPU7en/LbB1RGw4VoOIeArwbMZI1JclIp4REXcDC4BTgN0y86oxms+i/KrQus2us05JkiSpieom/ScD04BvVWP0L6b6MvDFavmfqbmOPwFbUkp6PgucERFPHaPtUcAabbcxv4xIkiRJK5pa5T2Z+Z2IOAl4L/DniLgSSOBlEfEr4FnAKsAnM/O8mut4gDL+P8ClEbE18H7gnV3aLqD8IgBAROfooZIkSdKKq/bFuTLz/cCewNXAMynj9G9IGcrzb8A+mfmRQQRZCRav25ckSZLUg7on8gKQmV8BvhIRM4GNgSnA7My8YTzLjYgjgR8CN1JOyn09sD2w03iWK0mSJK2IxpX0t2TmzcDNg1hWZT3gS8D6lBNzLwd2ysyfDnAdkiRJ0gqhVtIfEecDZwLfysw7BxsSZObbBr1MSZIkaUVVt6b/xcDngZsi4lsR8S/VWPmSJEmSRkzdpP8FlGE05wG7Ad8AbomIUyPiJeHwOZIkSdLIqJX0Z+YvM3M/YAPglcCXKaPrvBX4KTA7Io6JiGcNLFJJkiRJtdQeshMgMx/KzB9n5lsoJ9++HjgbWBv4EGV8/bGuoitJkiRpORhX0t8uM+/PzLMyc1fKF4BTKL3/mw9qHZIkSZL6N5AhO1si4gnAG6tbK9l/cJDrkCRJktSfcSf9EbEOsAfwJsrVeANI4GJKrf9Z412HJEmSpPrqjtO/OvAvlB79l1KuxBvAVZRE/yvjvSqvJEmSpMGo29N/C7AaJdGfDXwN+HJm/n5QgUmSJEkajLpJ/4PAVym9+j/PzBxcSJIkSZIGqW7Sv15mPjDQSCRJkiRNiLoX51pmwh8RT42IIyPi+jrrkCRJkjQYgx6ycz3Kyb17AlvyyEg+kiRJkoZkEEN2TgN2A95MGclnJUqyPxf4JqX2X5IkSdKQ1B2yM4CXU3r0dwOmURJ9KD37rwDOy8yHBhGkJEmSpPr6qumPiC0j4ljg78APKUn/VOAHwBuASwEy82cm/JIkSdJo6KmnPyIOoJTvPIVHevR/A5wJfC0zb6va7TcRQUqSJEmqr9fynqMoZTs3A5+nXIjrLxMWlSRJkqSB6aemP4D1gBcDf4uIuZk5f2LCkiRJkjQovdb0bwOcDNwBbA+cCtwcEV+PiFdHxECH/pQkSZI0OD0l/Zn5m8zcD9gA2BX4djXrtcD/AHMi4jPAuhMSpSRJkqTa+hq9JzMXZub3MvO1wEzgncBFwNrAvsCmABFxVERsMehgJUmSJPWvr6S/XWbOz8z/yswXAU8A/gO4hlL7/xHg/yLiqoj498GEKkmSJKmO2kl/u8y8ITOPyMynAM+j1P/fBjwZOHQQ65AkSZJUz0CS/naZeUlmvpdS//8a4JuDXockSZKk3k3YqDuZuQg4u7pJkiRJGpKB9/RLkiRJGi0m/ZIkSVLDmfRLkiRJDWfSL0mSJDWcSb8kSZLUcCb9kiRJUsOZ9EuSJEkNZ9IvSZIkNZxJvyRJktRwI5n0R8SsiLgkIu6KiLkR8Z2I2HzYcUmSJEmT0Ugm/cCLgc8A2wAvB1YGfhIRqw81KkmSJGkSWnnYAXSTmTu134+IfYC5wHOAXwwlKEmSJGmSGtWe/k5rVH/vGGoUkiRJ0iQ0kj397SIigOOACzPzyjHaTAWmtk2avjxikyRJkiaDydDT/2ngmcAbltJmFjCv7TZ7OcQlSZIkTQojnfRHxEnAq4EdMnNpifxRlBKg1m3D5RCeJEmSNCmMZHlPVdJzErAbsH1mXre09pm5AFjQ9viJDVCSJEmaREYy6acM1/lG4DXAXRExs5o+LzPvG15YkiRJ0uQzquU9+1LKdC4Abmq77THEmCRJkqRJaSR7+jPT+hxJkiRpQEa1p1+SJEnSgJj0S5IkSQ1n0i9JkiQ1nEm/JEmS1HAm/ZIkSVLDmfRLkiRJDWfSL0mSJDWcSb8kSZLUcCb9kiRJUsOZ9EuSJEkNZ9IvSZIkNZxJvyRJktRwJv2SJElSw5n0S5IkSQ1n0i9JkiQ1nEm/JEmS1HAm/ZIkSVLDmfRLkiRJDWfSL0mSJDWcSb8kSZLUcCb9kiRJUsOZ9EuSJEkNZ9IvSZIkNZxJvyRJktRwJv2SJElSw5n0S5IkSQ1n0i9JkiQ1nEm/JEmS1HAm/ZIkSVLDmfRLkiRJDWfSL0mSJDWcSb8kSZLUcCb9kiRJUsOZ9EuSJEkNZ9IvSZIkNZxJvyRJktRwI5n0R8SLIuLsiJgTERkRuw47JkmSJGmyGsmkH1gd+D2w37ADkSRJkia7lYcdQDeZ+UPghwARMeRoJEmSpMltJJP+fkXEVGBq26Tpw4pFkiRJGjWjWt7Tr1nAvLbb7OGGI0mSJI2OpiT9RwFrtN02HG44kiRJ0uhoRHlPZi4AFrTuex6AJEmS9Iim9PRLkiRJGsNI9vRHxKOBTdsmbRIRWwJ3ZObfhhSWJEmSNCmNZNIPbAWc33b/uOrvGcDeyz0aSZIkaRIbyaQ/My8ALMyXJEmSBsCafkmSJKnhTPolSZKkhjPplyRJkhrOpF+SJElqOJN+SZIkqeFM+iVJkqSGM+mXJEmSGs6kX5IkSWo4k35JkiSp4Uz6JUmSpIYz6ZckSZIazqRfkiRJajiTfkmSJKnhTPolSZKkhjPplyRJkhrOpF+SJElqOJN+SZIkqeFM+iVJkqSGM+mXJEmSGs6kX5IkSWo4k35JkiSp4Uz6JUmSpIYz6ZckSZIazqRfkiRJajiTfkmSJKnhTPolSZKkhjPplyRJkhrOpF+SJElqOJN+SZIkqeFM+iVJkqSGM+mXJEmSGs6kX5IkSWo4k35JkiSp4Uz6JUmSpIYz6ZckSZIabqST/oh4d0RcFxH3R8RvI+KFw45JkiRJmmxGNumPiD2AE4CPAc8C/hf4YUQ8fqiBSZIkSZPMyCb9wAeB/87MUzPzj5m5P3AjsO+Q45IkSZImlZWHHUA3EbEq8Bzg6I5ZPwGe36X9VGBq26TpAPPnz5+oEPvy0IJ7hx3CSBqV/TNqPF6W5LHSncdKdx4v3Xm8LMljpTuPle5G5XipG0dk5oBDGb+I2AD4O/CCzLy4bfpHgb0yc/OO9ocChyzXICVJkqTh2TAz/95r45Hs6W/T+Y0kukwDOAo4rmPaY4A7JiKoSWw6MBvYELhryLFotHmsqB8eL+qVx4r64fEytunAnH4eMKpJ/23AImBmx/R1gVs6G2fmAmBBx+TR+A1mhERE69+7MtPtozF5rKgfHi/qlceK+uHxslR9b4+RPJE3Mx8Afgu8vGPWy4GLl3yEJEmSpLGMak8/lHKdL0XEpcAvgXcAjwdOGWpUkiRJ0iQzskl/Zn49ItYG/gNYH7gS2DkzbxhuZJPaAuAwliyFkjp5rKgfHi/qlceK+uHxMkAjOXqPJEmSpMEZyZp+SZIkSYNj0i9JkiQ1nEm/JEmS1HAm/ZIkSVLDmfRLkiRJDWfSL0mSJDXcyI7Tr8GIiNUy874x5q2fmTct75gkSSuWiNgJuDszL6zuvwf4N+Aq4D2Z+Y9hxqfhiYh/AD2NH5+Zj5ngcBrNcfobLiKuBt6Ymf/XMX134LOZuc5wItOoioiVgE2Bden4NTAzfzGUoCRNahFxBXBAZv4gIp4BXAIcB7wE+GNm7jPUADU0EbFX2921gYOBHwO/rKZtC+wIHJ6Zxy/n8BrFpL/hIuIkSm/KocDHgdWBTwOvBQ7MzJOGF51GTURsA3wF2AiIjtmZmVOWf1QaRRGxHvBJ4KWUL4iLHS8eK2oXEXcDT8/M6yPi0Or/3SPi2cAPMnPmcCPUKIiIbwHnZ+anO6bvB7wsM3cdTmTNYHlPw2XmeyPiHOA0YBdgA2A+sHVmXjXU4DSKTgEupRwrN9HjT65aIZ0OPB44HI8VLdsDwLTq/5cBX6z+vwOYMZSINIp2BA7oMv3HwNHLOZbGMelfMfwE+DawL7AQeJUJv8awGbB7Zv5l2IFo5G0HvDAzLxt2IJoULgSOi4iLgOcCe1TTnwTMHlpUGjW3A7sBx3RM37Wap3Ew6W+4iHgipVxjJuUb9IuB70bEicBBmfngMOPTyPk1pZ7fpF/LciNLloBJY9kPOBnYHdg3M/9eTX8l8KOhRaVRcwjw3xGxPY/U9G8D7AS8fVhBNYU1/Q0XEXcB5wDvysw7q2nPp/y0eldmPmuY8Wm0RMRuwBGUXpYrgMW+FGbm5cOIS6MnIl4BfAh4Z2ZeP+RwJDVERDwPeB/wFErHwlXAiZn566EG1gAm/Q0XEW/OzC91mT4dOCEz3zaEsDSiIuKhLpOT8sbribx6WDXM3jTKL8b3suQXRIfW02IcGUwaLpN+SQ+LiI2WNj8zb1hesWi0dQyzt4TMPGN5xaLR58hg6pVfDieOSf8KICKeBGzPki+gzMzDhxKURlJErJ6Z9ww7DknNEhGXAddQaraXGO0pM+cNIy6NFr8cTiyT/oaLiH8DPgvcBtzM4m+0mZnPHkpgGknVWNpnAV9oXTlTWpaIWA1YpX1aZs4fUjgaQRFxD7CFI4Npafxy+P/bu/Nou+r6/OPvh2gik0JABYQwySAFFJCpIKFQQUVYCCggylSk2p/IYLXS9lcB28pQVgwo0AGUQRaoP2YRUCZBBkFAECwlJAQtYyAIIW3C8Pz++O6THA7nZjR377Pv81rrrnPO3vuc+8C6ufdz9vnsz3fJStHfcpKmAmfYPqnuLNF8knYHDgY+DkwFzgHOs/1EnbmieSQtS1nw71OUVTTfIGfkopukG4CTbWdSTwwpbw6XrKXmf0gMuBWBH9YdIgaD7Stt701ZxO1MYH9gqqSrJO0lKWN+o+NkYCfgr4BZlHF6XweeAA6sMVc00+nAqZIOlrSFpE27v+oOF43RGRsdS0DO9LecpLOBu2yfVXeWGEySjqCM8BxNaRM7CzjR9sxag0WtJD0OHGj7JkkvApvbniTps8D+tj9Wc8RokEwGiwWRsdFLVs7atd8k4BvVxTH9/gGdVkuqaDRJq1DO1h4CjAN+BJxN+QTga5TFUnapLWA0wVhgSnX/xeoxlJVXz6wlUTTZ2nUHiIHw/6rbc7q2zXlzCOTN4WJI0d9+hwMzKCvxju/ZZyBFf8whaS9Kob8rZUGU7wAXdBZ2q465D7i3noTRIJOBtSjXfjxE6e3/JbA78MLQT4uRKON+YwHlzeESlPaeiJhD0h+Ai4D/sH3XEMcsDXzV9vHDGi4aRdLRwGu2T5P0Z5SVv0dRTiYdY3tirQGjcarWr89TCrttbU+VdBQwxfbl9aaLaL8U/SOIJEFpnqw7SzSTpGXSqx+LQtI44IPAo7Z/XXeeaBZJXwBOAL4F/B2wse3Jkg4GDrL9Z3Xmi2aRtBGltXR093bbV9STqB1S9I8Akg4EvgKsV236L+AU2+fXlyqaQtLbF/TYzF6Pjur3ysW2Z/VsHw3sZ/u8epJFE0l6CPhb25dJeokylnGypI2Bm2yvXHPEaABJ6wCXApswt5ef6n5GAS+mjOxsOUnHUC6qu5rSc7svcA1wVvXxfMQLwPT5fHWOiej4LvCOPtuXr/ZFdFub/tcCzQKWHeYs0VwTKQMC3g3MBP4E2AG4G9ixvljtkAt52+8I4As9Z90ul/QgcBwwoZZU0ST5WD0WRWeaRq/VgayaGb2mAB+gXPjd7aOUC8EjALYFdrL9bDXm9XXbt0o6ljJ4ZLN64w22FP3ttypwW5/tt1X7YoSzfXPnvqTRtmf3O05SPn4PJN1LKfYNXC/p1a7doyhndLPqavQ6BfiOpLdR3jBuJWl/4FjKwm4RUH6HzKjuT6OMiX6Y8mZxg7pCtUWK/vabRGnr+eee7fsCjwx/nGi4H0jay/YbFtKR9G7gemDjemJFg1xW3X4AuJa5f6ABZgOPMXfWdgQAtr9breh9MrAMcCHw38CRti+qNVw0yW+ATSkjge8EvippNmX8+OQ6g7VBLuRtOUl7AxcDPwN+QTk7tz2wM/Ap25fWGC8aRtKdwEO2D+natipwA/Cg7X1qCxeNIukg4KLeC3kj5qf61HAp28/UnSWaRdKuwLK2L6ku6r0K2BB4DtjX9g21BhxwKfpHAElbAEcD76N8rPoQcKrtLLAUbyBpJeDnwHW2j5b0HkrB/2vKRJbX5/kCMWJImgxsafu5nu0rAPfYXqeeZNFU1Zn+HYF1gQttvyRpNeBF2zPm+eQYsSSNBaZn3PjiS9HfYtUv2AOAa20/VXeeGAySVgdupYxN2w24BzjA9mu1BotGqS6yW6X3bG3VCva47TH1JIsmkrQm5VqPccAYYP1qZOe3gLfZ/nytASNGgPT0t5jtVyWdSTnDH7FAbP9e0ocphf9Pgc/mDEt0SNqj6+Gu1SrOHaMorYOPDWuoGAQTKWMX309p1ei4FPiPWm4eE28AABIfSURBVBJFI0i6ZEGPtb3XkszSdin62+9Oyoir3jFpEQBImk7/0YvLALsDz1WLOWN77DBGi2bqXMhr4Nyefa9QCv4vD2egGAjbA9vZnt35fVKZCrynnkjREBnxO0xS9LffGcCpVcvGr4CXu3favr+WVNEkR9UdIAaH7aUAJE2h9PRPqzlSDIalKJ8E9VodeGmYs0SDdA+OiCUrPf0tV/XdDsVZ0joiIpY0SRcDf7B9uKSXKGMZnwUup1wDksIvkLQ0pTadWT1eE/gEZarcdbWGa4EU/S1X/YMZku20/cQbSBoF7Em5FsSUaU9X5ELe6CVpWWA85eLM0d37bJ9WS6hopGpKz43Aa8B6lP7+9SgLMO2Q8Z0BIOk64BLbZ1WTwB6mrP+xMnCM7TNrDTjgUvS3nKSVOiP1JK0BfA5YmlLE3VJruGgcSe8Frqb02D5MGfG6PvA7YDfbj9YYLxpE0maUn5VlgGWB5yl/mGcCz2RkZ/SqzuLuD2xOafe5B/i+7f+pNVg0hqRpwHjbD0o6DDiCcl3i3sAJtjOYZDGk6G8pSZsAVwJrUFbe3Y8yLm1Z4PXqdh/blw35IjHiSLqaUugfYPv5attKwAXA67Z3qzNfNIekm4D/Ar4AvECZyvIK5Wdlou0FnsgREQEgaSawoe3HJf2Asijk8dVJy4dtL1NzxIGWor+lJP0EeBU4CfgM8HHgOuCw6pDTgS1sb1NPwmgiSS8D29h+oGf7+4Ff2F6unmTRNJJeALa2/XB1f1vbv5W0NXCu7Q1rjhgNIunAee23fd5wZYnmknQ/ZYTrpcBvgI/Yvr1aZPTHtlepNeCAy/Se9toS2Mn2/ZLuAw4HzuisqCrpdOCOOgNGI80Clu+zfTlKX2VExyvMHfX6NKWv/7eU8Xvj6goVjTWx5/FbKa1hsyktYSn6A+AE4EJgAnC97dur7bsA99aWqiVS9LfXWOApANszqjO4z3ftn07/4i5GtquAf5P0F8Avq21bA2cBV9SWKproXuCDlBafG4ETJK0MfBZ4YF5PjJHH9oq92yStB5wJnDL8iaKJbP9I0q3AqsCvu3ZdTzn7H4sh7T0tVY3qfLftZ6vHLwGb2p5SPX438ERGdka3alrCuZRFuV6pNr+FUvAfbDuLqAQAkj4ILG/7RknvpPzcbA9MAg6x/et5vkAEc36OLkg7WMSSl6K/paqi/yeUdg0oRdwNzF2cawylVy5Ff7xJdQauMyXhIduT6swTEe1UTYG62fbb684S9ZG0QBf+295rSWdps7T3tNe5PY8v6HNMeiijL9uPSJpU3c+ZgYhYLJL26N1EaeH4IvCL4U8UDZNPkYdBzvRHxBtUUza+Qlk4B0rP9im2z68vVTRN1SL4L8DOwLsoRdwc+RQxuvVZHd6UFXlvAL5s+8nhTxUxsuRMf0TMIekY4BvAtyln3wRsB5wlaWXbE+rMF43yPcqUnm8ATzJ3kk/Em9heCqC6/mN2rg+KGH450x8Rc0iaAny9d2a2pIOA42yvXU+yaJpqOMCHbN9Xd5ZotmpAwD8B+wKdKT7PAt8FvmF7Zl3ZIkaSnOmPiG6rArf12X5btS+i43f0tPRE9JI0FrgdeA/wfcpaDqIMCjgC+LCk7SkrOm9t+7S6ska03VJ1B4iIRpkEfKrP9n2BR4Y5SzTbUcCJktaqOUc02z9QFuBa1/Zf2v6W7Qm2DwfeC4wGzqesGJ+Wn4glKO09ETGHpL2Bi4GfUXr6TZm9vjPwKdtZHGUEkzSdN/buL0v5xHgmc9d1AMD22GGMFg0l6THgL21fO8T+jwBXA8fbPn44s0WMNCn6I+INJG0BHE35+F3AQ8CptrME+ghXXduxQGz3jg2OEUjSLMpZ/t8PsX914DHbaTcOACStD+xImQr2ho4U2yfUkaktUvRHBACS3gIcAFxr+6m680TE4JP038C+tm8dYv+HgIttrza8yaKJJH0OOBOYBjzFGz9ZtO3NawnWEin6I2IOSTOB99meWneWaD5JS1H6svudkft5LaGiUSSdTfkZ+bDt2T37xgDXApNtH1pHvmgWSVOBM2yfVHeWNkrRHxFzSLoRmGj7srqzRLNJ2ga4EFiTN0/xcRbnCpjTvnM3MAv4DvCf1a6NgL8CxgBb2n68noTRJJJeBD5ge3LdWdooRX9EzCHpk8CJwATgV8DL3ftt319HrmgeSfdRVmv+On0W58riS9EhaW3gDGAX5r5BNPBT4Iu2J9WVLZql+mToLttn1Z2ljVL0R8Qckl6fx+6cvY05JL0MvD8FWywoSSsC61UPJ9l+vs480TySjgWOAX4MPMCbp4JlHYfFkKI/IuaQtOa89qfXPzok3QCcbPuaurNERDtUq8IPxbbXGbYwLZQRWRHRbYbt5wAkrQF8DlgauML2LbUmi6Y5HThV0ir0PyOXVrCIWCi21647Q5vlTH9EIGkT4EpgDcrKu/sB11AWX3q9ut0nF/hGxxCtYKb0bKcVLCIWmaTRwNrAo7ZfrTtPW6Tojwgk/QR4FTgJ+AzwceA64LDqkNOBLWxvU0/CaJq0gkXEH5ukZSh/bzoLAa5ve7Kk04AnbJ9YX7rBl6I/IpA0DdjJ9v2SlgNeBLayfXe1f0PgDtsr1JkzIiLaS9JEYDvgKMqnzZtWRf8ewPG2N6s14IBLT39EAIylrH6I7RnVZJbuyRrTgeXrCBbNJmkjYBwwunu77SvqSRQRA2xPygrOd0jqPiv9ELBuTZlaI0V/RHT0fuyXjwFjSJLWAS4FNmFuLz/M/blJT39ELKx3As/02b4s+Zu02FL0R0TH9yTNqu6/DTirOuMPZdXMiG4TgSnAnwOTga2AlYBTgb+uMVdEDK67gN0off0wt9D/HHB7LYlaJEV/RACc2/P4gj7HnDccQWJgbEu5DuTZapLP67ZvrRbXOQ1I721ELKxjgWuqtsG3AEdK+hPK75vxtSZrgRT9EYHtQ+rOEANnFDCjuj8NWA14GJgKbFBXqIgYXLZvk7Qd5dPCR4FdgHuAbW0/UGu4FkjRHxERi+I3wKaU1p47ga9Kmg0cXm2LiFhoVXF/0HwPjIW2VN0BIiJiIP0jc/+G/D2wJnAL8DHgyLpCRcTgkvSapHf12b6SpNfqyNQmmdMfERF/FJLGAtOdPywRsQiq64NWsf1Mz/bVKKvzLl1PsnZIe09ERCwwSecswDHYPnQ48kTE4JP0pequgcMkzejaPQrYAfjPYQ/WMjnTHxERC6w6EzcVuJe5s/nfxPYnhi1URAw0SVOqu2sCvwe6W3lmA48B/2D7zmGO1iop+iMiYoFJOgPYD3gcOAe4wPbz835WRMT8SboR2Mv29LqztFGK/oiIWCiSxgB7AYcCfwr8GDgbuC79/BERzZSiPyIiFpmkNYGDgQOBtwIb2Z4xzydFRAxB0urAHsA4YHT3PtvH1BKqJXIhb0RELA5XXyJjoCNiMUjaGbgCmEJZ5O83wFqU3y/31JesHfILOiIiFoqkMZL2l/RTyiq8mwBfBMblLH9ELIZvAqfa3hj4X2BvYA3gZuCHdQZrg7T3RETEAuu5kPe7lAt5n6s3VUS0gaSXgA/YflTSdGB72w9Kej9wue216k042NLeExERC+PzlIJ/CjAeGC+9eXKn7b2GOVdEDL6XgTHV/SeAdYEHq8cr15KoRVL0R0TEwjiP0sMfEfHHdgewHfAQZSrYqZI2oUwLu6POYG2Q9p6IiIiIqJ2kdYDlbN8vaRngX4DtgUnA0ban1hpwwKXoj4iIiIhouUzviYiIiIjaSZosaaU+21eQNLmOTG2Soj8iIiIimmAtYFSf7WOA9wxvlPbJhbwRERERURtJe3Q93FXSH7oejwJ2Bh4b1lAtlJ7+iIiIiKiNpNeru53Vvbu9Qin4v2z7quHM1TYp+iMiIiKidpKmAFvanlZ3ljZK0R8RERER0XK5kDciIiIiaiNpa0kf7dl2oKQpkp6R9G+Sxgz1/FgwKfojIiIiok7HAZt2HlSr8J4N/Aw4EdgdOLaWZC2S9p6IiIiIqI2kJ4Hdbd9dPf4nYLzt7avHnwSOt71RjTEHXs70R0RERESdVgSe7no8Hrim6/FdwBrDmqiFUvRHRERERJ2eBtYGkDQa2By4vWv/8pTRnbEYUvRHRERERJ2uAU6U9CHgm8BM4Jau/ZsCj9YRrE2yIm9ERERE1OnvgUuAm4EZwEG2Z3ftPxS4ro5gbZILeSMiIiKidpLeAcyw/VrP9rHV9tn9nxkLIkV/RERERETLpac/IiIiIqLlUvRHRERERLRciv6IiIiIiJZL0R8R0WCS3OdrtqTfSfp+tVz9iCfpuOr/zcF1Z4mIaKKM7IyIGAzndt1/B7AF8GlgH0kfsX1jPbEiImIQpOiPiBgAtg/ufizprcDZwGeBiZTFayIiIvpKe09ExACy/QpwXPVwE0kr1BgnIiIaLkV/RMTgerrr/ps+uZW0hqR/lTRV0ixJz0i6RNKWfY5dq+qJv0nS2yWdKmmKpFckfavruLdIOkLSryTNqL5+KekLkkb1ed3HJPVdEEbSjtX3/F6ffe+S9O+SnpY0U9I9kj7dnXOo/ymSNpF0haTpkl6WdLOkPx3q+IiIkSBFf0TE4Nqiup1me1r3juoC33uAw4GZlCXuHwE+Adwm6ZNDvObSwM3AIcB9wBXA9Oo1RwGXA6cB7wV+Vn1tCJwB/FDSYv9dkbQycBtwGDCryvAH4Hzg6Pk8/YPAHcAGwPWU/+YdgOslbby42SIiBlV6+iMiBky1VP1WwLerTf/cs1/A94GVgW8Cf+dq+XVJ+wAXA2dL+rnt7k8LqF73dmAd2y/07DsK+BjwAPDntp+pXnNV4EbKG4rPU94ALI4TgXWBS4H9bc+qvs/OwNXzee7/Af7G9smdDZImVNm/Chy4mNkiIgZSzvRHRAyA7pGdwAvAdcAKwKdtT+g5fEdgE2AK8H87BT+A7R8BlwHLU87m9/OlPgU/wJeq26M6BX/1mk8CX+k5ZpFIWg44AHgVOLJT8Fff53rgovm8xK3dBX/lH6vbHRYnW0TEIEvRHxExGM7t+rqIcjZ+ZeBkSeN7jv1QdXux7df6vNb5Pcd1e9L23b0bJY0DxgFP2b6hz/OuorwZ2UDSO+f3HzMPmwNvA+6w/bs++384n+df17vB9nPAc8Cqi5ErImKgpb0nImIA9I7sBJC0GaX//lpJ77M9pdq1WnX72BAv19m+Wp99jw/xnHm+pm1Lmkr59GE14NkhXmd+Ot+nX8E/r3wdvx9i+wxgpUVKFBHRAjnTHxExoGzfC/wrMAb4Yr9D5vcSfbb97yI8Z1GOgXn/DRrqNfRH+t4RESNKiv6IiMHWObu/Qde2J6rbtYd4zprV7ZML8X3m95pQ2n96X3c2zOnV77VGn22d547rs2+o50RExHyk6I+IGGzrVLcvd227pbrdt9/sfOAzPcfNl+3HKa01q0jaqXe/pN2AFYGHbXe39nSK+PX7vOwufbbdQxnTuY2k1fvs32dBM0dExFwp+iMiBlTV03949bB7lOVNlLGaawMnVCM8O8/ZE9iL0uP+vYX8lqdXtxO6L9aVtApwSs8xHTdXt8d2vwGR9Blgv95vYPsl4ELKNWcTJI3ues6OwP4LmTkiIsiFvBERA6Fn1drRlBadbSgnb65k7kSezkW1B1Bm5/8t8AlJ91FaZrajjMM81PZTCxljArAT8FHgEUk3UHrsd6aMAL0MOLPnOd+hzO7fB3hI0v3AesDGwET6L7b1NcrY0X2ArSTdBryr2nYG5fqF2QuZPSJiRMuZ/oiIwXBQ19e+lFVwfw78BbCn7de7D7b9AGX85b8Dy1EK6A0ohfl2tuc3+vJNqvGfewBHApOBXSktOg9TFsXap0+Opynz8a+ijMz8KGV13Q9TVtrt932eAbYFzqGsELwnZfLOIcyd0//cwuaPiBjJ1LVmS0RERKNJ+hvKir1fs31S3XkiIgZFzvRHRETjSNq8z7YdKO1KrwI/GPZQEREDLD39ERHRRLdJegL4LWUy0XuBzap9X+taiCwiIhZA2nsiIqJxJH0d2I0ykvQdwIvA3cC3bV9ZZ7aIiEGUoj8iIiIiouXS0x8RERER0XIp+iMiIiIiWi5Ff0REREREy6Xoj4iIiIhouRT9EREREREtl6I/IiIiIqLlUvRHRERERLRciv6IiIiIiJZL0R8RERER0XL/HxX/FJnTD7rlAAAAAElFTkSuQmCC\n",
      "text/plain": [
       "<Figure size 900x500 with 1 Axes>"
      ]
     },
     "metadata": {
      "needs_background": "light"
     },
     "output_type": "display_data"
    }
   ],
   "source": [
    "plt.figure(figsize=(9,5), dpi = 100)\n",
    "# title\n",
    "plt.title('Average rating of Hispanic/Latinos Resturants for each Borough')\n",
    "#On x-axis\n",
    "plt.xlabel('Borough', fontsize = 15)\n",
    "#On y-axis\n",
    "plt.ylabel('Average Rating', fontsize=15)\n",
    "#giving a bar plot\n",
    "hispanic_rest_stats_ny.groupby('Borough').mean()['Rating'].plot(kind='bar')\n",
    "#legend\n",
    "plt.legend()\n",
    "#displays the plot\n",
    "plt.show()\n",
    "\n"
   ]
  },
  {
   "cell_type": "markdown",
   "metadata": {},
   "source": [
    "\n",
    "We will consider all the neighborhoods with average rating greater or equal 9.0 to visualize on map\n"
   ]
  },
  {
   "cell_type": "code",
   "execution_count": 118,
   "metadata": {},
   "outputs": [
    {
     "data": {
      "text/html": [
       "<div>\n",
       "<style scoped>\n",
       "    .dataframe tbody tr th:only-of-type {\n",
       "        vertical-align: middle;\n",
       "    }\n",
       "\n",
       "    .dataframe tbody tr th {\n",
       "        vertical-align: top;\n",
       "    }\n",
       "\n",
       "    .dataframe thead th {\n",
       "        text-align: right;\n",
       "    }\n",
       "</style>\n",
       "<table border=\"1\" class=\"dataframe\">\n",
       "  <thead>\n",
       "    <tr style=\"text-align: right;\">\n",
       "      <th></th>\n",
       "      <th>Neighborhood</th>\n",
       "      <th>Average Rating</th>\n",
       "    </tr>\n",
       "  </thead>\n",
       "  <tbody>\n",
       "    <tr>\n",
       "      <th>12</th>\n",
       "      <td>Chinatown</td>\n",
       "      <td>9.2</td>\n",
       "    </tr>\n",
       "    <tr>\n",
       "      <th>16</th>\n",
       "      <td>Cobble Hill</td>\n",
       "      <td>9.0</td>\n",
       "    </tr>\n",
       "    <tr>\n",
       "      <th>25</th>\n",
       "      <td>Flatiron</td>\n",
       "      <td>9.0</td>\n",
       "    </tr>\n",
       "    <tr>\n",
       "      <th>30</th>\n",
       "      <td>Gramercy</td>\n",
       "      <td>9.0</td>\n",
       "    </tr>\n",
       "    <tr>\n",
       "      <th>40</th>\n",
       "      <td>Little Italy</td>\n",
       "      <td>9.2</td>\n",
       "    </tr>\n",
       "    <tr>\n",
       "      <th>66</th>\n",
       "      <td>Soho</td>\n",
       "      <td>9.2</td>\n",
       "    </tr>\n",
       "  </tbody>\n",
       "</table>\n",
       "</div>"
      ],
      "text/plain": [
       "    Neighborhood  Average Rating\n",
       "12     Chinatown             9.2\n",
       "16   Cobble Hill             9.0\n",
       "25      Flatiron             9.0\n",
       "30      Gramercy             9.0\n",
       "40  Little Italy             9.2\n",
       "66          Soho             9.2"
      ]
     },
     "execution_count": 118,
     "metadata": {},
     "output_type": "execute_result"
    }
   ],
   "source": [
    "ny_neighborhood_stats=ny_neighborhood_stats[ny_neighborhood_stats['Average Rating']>=9.0]\n",
    "ny_neighborhood_stats\n"
   ]
  },
  {
   "cell_type": "markdown",
   "metadata": {},
   "source": [
    "We will join this dataset to original new york data to get lonitude and latitude\n"
   ]
  },
  {
   "cell_type": "code",
   "execution_count": 119,
   "metadata": {},
   "outputs": [
    {
     "data": {
      "text/html": [
       "<div>\n",
       "<style scoped>\n",
       "    .dataframe tbody tr th:only-of-type {\n",
       "        vertical-align: middle;\n",
       "    }\n",
       "\n",
       "    .dataframe tbody tr th {\n",
       "        vertical-align: top;\n",
       "    }\n",
       "\n",
       "    .dataframe thead th {\n",
       "        text-align: right;\n",
       "    }\n",
       "</style>\n",
       "<table border=\"1\" class=\"dataframe\">\n",
       "  <thead>\n",
       "    <tr style=\"text-align: right;\">\n",
       "      <th></th>\n",
       "      <th>Borough</th>\n",
       "      <th>Neighborhood</th>\n",
       "      <th>Latitude</th>\n",
       "      <th>Longitude</th>\n",
       "      <th>Average Rating</th>\n",
       "    </tr>\n",
       "  </thead>\n",
       "  <tbody>\n",
       "    <tr>\n",
       "      <th>0</th>\n",
       "      <td>Manhattan</td>\n",
       "      <td>Chinatown</td>\n",
       "      <td>40.715618</td>\n",
       "      <td>-73.994279</td>\n",
       "      <td>9.2</td>\n",
       "    </tr>\n",
       "    <tr>\n",
       "      <th>1</th>\n",
       "      <td>Brooklyn</td>\n",
       "      <td>Cobble Hill</td>\n",
       "      <td>40.687920</td>\n",
       "      <td>-73.998561</td>\n",
       "      <td>9.0</td>\n",
       "    </tr>\n",
       "    <tr>\n",
       "      <th>2</th>\n",
       "      <td>Manhattan</td>\n",
       "      <td>Flatiron</td>\n",
       "      <td>40.739673</td>\n",
       "      <td>-73.990947</td>\n",
       "      <td>9.0</td>\n",
       "    </tr>\n",
       "    <tr>\n",
       "      <th>3</th>\n",
       "      <td>Manhattan</td>\n",
       "      <td>Gramercy</td>\n",
       "      <td>40.737210</td>\n",
       "      <td>-73.981376</td>\n",
       "      <td>9.0</td>\n",
       "    </tr>\n",
       "    <tr>\n",
       "      <th>4</th>\n",
       "      <td>Manhattan</td>\n",
       "      <td>Little Italy</td>\n",
       "      <td>40.719324</td>\n",
       "      <td>-73.997305</td>\n",
       "      <td>9.2</td>\n",
       "    </tr>\n",
       "    <tr>\n",
       "      <th>5</th>\n",
       "      <td>Manhattan</td>\n",
       "      <td>Soho</td>\n",
       "      <td>40.722184</td>\n",
       "      <td>-74.000657</td>\n",
       "      <td>9.2</td>\n",
       "    </tr>\n",
       "  </tbody>\n",
       "</table>\n",
       "</div>"
      ],
      "text/plain": [
       "     Borough  Neighborhood   Latitude  Longitude  Average Rating\n",
       "0  Manhattan     Chinatown  40.715618 -73.994279             9.2\n",
       "1   Brooklyn   Cobble Hill  40.687920 -73.998561             9.0\n",
       "2  Manhattan      Flatiron  40.739673 -73.990947             9.0\n",
       "3  Manhattan      Gramercy  40.737210 -73.981376             9.0\n",
       "4  Manhattan  Little Italy  40.719324 -73.997305             9.2\n",
       "5  Manhattan          Soho  40.722184 -74.000657             9.2"
      ]
     },
     "execution_count": 119,
     "metadata": {},
     "output_type": "execute_result"
    }
   ],
   "source": [
    "ny_neighborhood_stats=pd.merge(ny_neighborhood_stats,new_york_data, on='Neighborhood')\n",
    "ny_neighborhood_stats=ny_neighborhood_stats[['Borough','Neighborhood','Latitude','Longitude','Average Rating']]\n",
    "ny_neighborhood_stats"
   ]
  },
  {
   "cell_type": "code",
   "execution_count": 124,
   "metadata": {},
   "outputs": [
    {
     "ename": "SyntaxError",
     "evalue": "invalid syntax (<ipython-input-124-c4c3a013c9d3>, line 1)",
     "output_type": "error",
     "traceback": [
      "\u001b[0;36m  File \u001b[0;32m\"<ipython-input-124-c4c3a013c9d3>\"\u001b[0;36m, line \u001b[0;32m1\u001b[0m\n\u001b[0;31m    Now we will show this data on a Map.\u001b[0m\n\u001b[0m         ^\u001b[0m\n\u001b[0;31mSyntaxError\u001b[0m\u001b[0;31m:\u001b[0m invalid syntax\n"
     ]
    }
   ],
   "source": [
    "Now we will show this data on a Map."
   ]
  },
  {
   "cell_type": "code",
   "execution_count": 125,
   "metadata": {},
   "outputs": [],
   "source": [
    "# create map and display it\n",
    "ny_map = folium.Map(location=geo_location('New York'), zoom_start=12)\n",
    "# instantiate a feature group for the incidents in the dataframe\n",
    "incidents = folium.map.FeatureGroup()\n",
    "\n",
    "# loop through the 100 crimes and add each to the incidents feature group\n",
    "for lat, lng, in ny_neighborhood_stats[['Latitude','Longitude']].values:\n",
    "    incidents.add_child(\n",
    "        folium.CircleMarker(\n",
    "            [lat, lng],\n",
    "            radius=10, # define how big you want the circle markers to be\n",
    "            color='yellow',\n",
    "            fill=True,\n",
    "            fill_color='blue',\n",
    "            fill_opacity=0.6\n",
    "        )\n",
    "    )\n"
   ]
  },
  {
   "cell_type": "markdown",
   "metadata": {},
   "source": [
    "Lets add a new field to dataframe for labeling purpose\n"
   ]
  },
  {
   "cell_type": "code",
   "execution_count": 126,
   "metadata": {
    "scrolled": true
   },
   "outputs": [
    {
     "data": {
      "text/html": [
       "<div style=\"width:100%;\"><div style=\"position:relative;width:100%;height:0;padding-bottom:60%;\"><iframe src=\"data:text/html;charset=utf-8;base64,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\" style=\"position:absolute;width:100%;height:100%;left:0;top:0;border:none !important;\" allowfullscreen webkitallowfullscreen mozallowfullscreen></iframe></div></div>"
      ],
      "text/plain": [
       "<folium.folium.Map at 0x7fda028501d0>"
      ]
     },
     "execution_count": 126,
     "metadata": {},
     "output_type": "execute_result"
    }
   ],
   "source": [
    "ny_neighborhood_stats['Label']=ny_neighborhood_stats['Neighborhood']+', '+ny_neighborhood_stats['Borough']+'('+ny_neighborhood_stats['Average Rating'].map(str)+')'\n",
    "\n",
    "# add pop-up text to each marker on the map\n",
    "for lat, lng, label in ny_neighborhood_stats[['Latitude','Longitude','Label']].values:\n",
    "    folium.Marker([lat, lng], popup=label).add_to(ny_map)        \n",
    "# add incidents to map\n",
    "ny_map.add_child(incidents)\n"
   ]
  },
  {
   "cell_type": "markdown",
   "metadata": {},
   "source": [
    "Now that we have visualized the Neighborhoods. ",
    "Lets Visualize Boroughs based on average Rating\n"
   ]
  },
  {
   "cell_type": "code",
   "execution_count": 130,
   "metadata": {},
   "outputs": [
    {
     "ename": "FileNotFoundError",
     "evalue": "[Errno 2] No such file or directory: 'Borough Boundaries.geojson'",
     "output_type": "error",
     "traceback": [
      "\u001b[0;31m---------------------------------------------------------------------------\u001b[0m",
      "\u001b[0;31mFileNotFoundError\u001b[0m                         Traceback (most recent call last)",
      "\u001b[0;32m<ipython-input-130-08a8df3b34f7>\u001b[0m in \u001b[0;36m<module>\u001b[0;34m\u001b[0m\n\u001b[1;32m     10\u001b[0m     \u001b[0mfill_opacity\u001b[0m\u001b[0;34m=\u001b[0m\u001b[0;36m0.7\u001b[0m\u001b[0;34m,\u001b[0m\u001b[0;34m\u001b[0m\u001b[0;34m\u001b[0m\u001b[0m\n\u001b[1;32m     11\u001b[0m     \u001b[0mline_opacity\u001b[0m\u001b[0;34m=\u001b[0m\u001b[0;36m0.2\u001b[0m\u001b[0;34m,\u001b[0m\u001b[0;34m\u001b[0m\u001b[0;34m\u001b[0m\u001b[0m\n\u001b[0;32m---> 12\u001b[0;31m     \u001b[0mlegend_name\u001b[0m\u001b[0;34m=\u001b[0m\u001b[0;34m'Average Rating'\u001b[0m\u001b[0;34m\u001b[0m\u001b[0;34m\u001b[0m\u001b[0m\n\u001b[0m\u001b[1;32m     13\u001b[0m )\n",
      "\u001b[0;32m/opt/conda/envs/Python36/lib/python3.6/site-packages/folium/folium.py\u001b[0m in \u001b[0;36mchoropleth\u001b[0;34m(self, geo_data, data, columns, key_on, threshold_scale, fill_color, fill_opacity, line_color, line_weight, line_opacity, name, legend_name, topojson, reset, smooth_factor, highlight)\u001b[0m\n\u001b[1;32m    325\u001b[0m                 \u001b[0mstyle_function\u001b[0m\u001b[0;34m=\u001b[0m\u001b[0mstyle_function\u001b[0m\u001b[0;34m,\u001b[0m\u001b[0;34m\u001b[0m\u001b[0;34m\u001b[0m\u001b[0m\n\u001b[1;32m    326\u001b[0m                 \u001b[0msmooth_factor\u001b[0m\u001b[0;34m=\u001b[0m\u001b[0msmooth_factor\u001b[0m\u001b[0;34m,\u001b[0m\u001b[0;34m\u001b[0m\u001b[0;34m\u001b[0m\u001b[0m\n\u001b[0;32m--> 327\u001b[0;31m                 highlight_function=highlight_function if highlight else None)\n\u001b[0m\u001b[1;32m    328\u001b[0m \u001b[0;34m\u001b[0m\u001b[0m\n\u001b[1;32m    329\u001b[0m         \u001b[0mself\u001b[0m\u001b[0;34m.\u001b[0m\u001b[0madd_child\u001b[0m\u001b[0;34m(\u001b[0m\u001b[0mgeo_json\u001b[0m\u001b[0;34m)\u001b[0m\u001b[0;34m\u001b[0m\u001b[0;34m\u001b[0m\u001b[0m\n",
      "\u001b[0;32m/opt/conda/envs/Python36/lib/python3.6/site-packages/folium/features.py\u001b[0m in \u001b[0;36m__init__\u001b[0;34m(self, data, style_function, name, overlay, control, smooth_factor, highlight_function)\u001b[0m\n\u001b[1;32m    479\u001b[0m                 \u001b[0mself\u001b[0m\u001b[0;34m.\u001b[0m\u001b[0mdata\u001b[0m \u001b[0;34m=\u001b[0m \u001b[0mjson\u001b[0m\u001b[0;34m.\u001b[0m\u001b[0mloads\u001b[0m\u001b[0;34m(\u001b[0m\u001b[0mdata\u001b[0m\u001b[0;34m)\u001b[0m\u001b[0;34m\u001b[0m\u001b[0;34m\u001b[0m\u001b[0m\n\u001b[1;32m    480\u001b[0m             \u001b[0;32melse\u001b[0m\u001b[0;34m:\u001b[0m  \u001b[0;31m# This is a filename\u001b[0m\u001b[0;34m\u001b[0m\u001b[0;34m\u001b[0m\u001b[0m\n\u001b[0;32m--> 481\u001b[0;31m                 \u001b[0;32mwith\u001b[0m \u001b[0mopen\u001b[0m\u001b[0;34m(\u001b[0m\u001b[0mdata\u001b[0m\u001b[0;34m)\u001b[0m \u001b[0;32mas\u001b[0m \u001b[0mf\u001b[0m\u001b[0;34m:\u001b[0m\u001b[0;34m\u001b[0m\u001b[0;34m\u001b[0m\u001b[0m\n\u001b[0m\u001b[1;32m    482\u001b[0m                     \u001b[0mself\u001b[0m\u001b[0;34m.\u001b[0m\u001b[0mdata\u001b[0m \u001b[0;34m=\u001b[0m \u001b[0mjson\u001b[0m\u001b[0;34m.\u001b[0m\u001b[0mloads\u001b[0m\u001b[0;34m(\u001b[0m\u001b[0mf\u001b[0m\u001b[0;34m.\u001b[0m\u001b[0mread\u001b[0m\u001b[0;34m(\u001b[0m\u001b[0;34m)\u001b[0m\u001b[0;34m)\u001b[0m\u001b[0;34m\u001b[0m\u001b[0;34m\u001b[0m\u001b[0m\n\u001b[1;32m    483\u001b[0m         \u001b[0;32melif\u001b[0m \u001b[0mdata\u001b[0m\u001b[0;34m.\u001b[0m\u001b[0m__class__\u001b[0m\u001b[0;34m.\u001b[0m\u001b[0m__name__\u001b[0m \u001b[0;32min\u001b[0m \u001b[0;34m[\u001b[0m\u001b[0;34m'GeoDataFrame'\u001b[0m\u001b[0;34m,\u001b[0m \u001b[0;34m'GeoSeries'\u001b[0m\u001b[0;34m]\u001b[0m\u001b[0;34m:\u001b[0m\u001b[0;34m\u001b[0m\u001b[0;34m\u001b[0m\u001b[0m\n",
      "\u001b[0;31mFileNotFoundError\u001b[0m: [Errno 2] No such file or directory: 'Borough Boundaries.geojson'"
     ]
    }
   ],
   "source": [
    "ny_map = folium.Map(location=geo_location('New York'), zoom_start=12)\n",
    "ny_geo = r'Borough Boundaries.geojson'\n",
    "\n",
    "ny_map.choropleth(\n",
    "    geo_data=ny_geo,\n",
    "    data=ny_borough_stats,\n",
    "    columns=['Borough', 'Average Rating'],\n",
    "    key_on='feature.properties.boro_name',\n",
    "    fill_color='YlOrRd', \n",
    "    fill_opacity=0.7, \n",
    "    line_opacity=0.2,\n",
    "    legend_name='Average Rating'\n",
    ")"
   ]
  },
  {
   "cell_type": "code",
   "execution_count": 129,
   "metadata": {},
   "outputs": [],
   "source": [
    "# display map\n",
    "# as this is huge map data , we will save it to a file\n",
    "ny_map.save('borough_rating.html')\n"
   ]
  },
  {
   "cell_type": "markdown",
   "metadata": {},
   "source": [
    "Conclusion\n",
    "Chinatown, Little Italy, Soho are some of the best neighborhoods for Hispanic/Latinos cuisine./\n" 
    "Manhattan have potential Hispanic/Latinos Resturant Market/\n",
    "Astoria(Queens), Blissville(Queens), Civic Center(Manhattan) are some of the best neighborhoods for Hispanic/Latinos cuisine.\n",
    "Staten Island ranks last in average rating of Hispanic/Latinos Resturants.\n",
    "Manhattan is the best place to stay if you prefer Hispanic/Latinos Cuisine.\n",
    "\n",
    "Limitations\n",
    "The ranking is purely on basis of rating of resturants\n",
    "The accuracy of data depends purely depends on the data provided by FourSquare\n"
   ]
  },
  {
   "cell_type": "code",
   "execution_count": null,
   "metadata": {},
   "outputs": [],
   "source": []
  }
 ],
 "metadata": {
  "kernelspec": {
   "display_name": "Python 3.6",
   "language": "python",
   "name": "python3"
  },
  "language_info": {
   "codemirror_mode": {
    "name": "ipython",
    "version": 3
   },
   "file_extension": ".py",
   "mimetype": "text/x-python",
   "name": "python",
   "nbconvert_exporter": "python",
   "pygments_lexer": "ipython3",
   "version": "3.6.8"
  }
 },
 "nbformat": 4,
 "nbformat_minor": 1
}
